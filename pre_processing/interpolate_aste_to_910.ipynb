{
 "cells": [
  {
   "cell_type": "code",
   "execution_count": 1,
   "metadata": {},
   "outputs": [],
   "source": [
    "import numpy as np\n",
    "import matplotlib.pyplot as plt\n",
    "%matplotlib inline\n",
    "\n",
    "from matplotlib import gridspec\n",
    "import mds\n",
    "import xarray as xr\n",
    "import xmitgcm\n",
    "import seaborn as sns\n",
    "import cmocean\n",
    "import sys\n",
    "import os\n",
    "from IPython import display\n",
    "import time\n",
    "import xesmf as xe\n"
   ]
  },
  {
   "cell_type": "code",
   "execution_count": 2,
   "metadata": {},
   "outputs": [],
   "source": [
    "import cartopy as cart"
   ]
  },
  {
   "cell_type": "code",
   "execution_count": 3,
   "metadata": {},
   "outputs": [],
   "source": [
    "from scipy.interpolate import griddata\n",
    "from scipy.interpolate import interp2d\n"
   ]
  },
  {
   "cell_type": "code",
   "execution_count": 4,
   "metadata": {},
   "outputs": [],
   "source": [
    "plt.rcParams.update({'font.size': 16\n",
    "    , 'legend.markerscale': 1., 'axes.titlesize': 16, 'axes.labelsize' : 16,\n",
    "      'legend.fontsize' : 14,'legend.handlelength': 3})\n",
    "\n",
    "plt.rc('xtick', labelsize=14) \n",
    "plt.rc('ytick', labelsize=14)\n",
    "\n",
    "color2 = '#6495ed'\n",
    "color1 = '#ff6347'\n",
    "color5 = '#8470ff'\n",
    "color3 = '#3cb371'\n",
    "color4 = '#ffd700'\n",
    "color6 = '#ba55d3'\n",
    "plt.rcParams.update({'figure.figsize' : (14,6)})\n"
   ]
  },
  {
   "cell_type": "code",
   "execution_count": 5,
   "metadata": {},
   "outputs": [
    {
     "name": "stderr",
     "output_type": "stream",
     "text": [
      "/central/groups/oceanphysics/anirban/miniconda/envs/mypythonenv1/lib/python3.6/site-packages/xmitgcm-0.2.2-py3.6.egg/xmitgcm/mds_store.py:807: UserWarning: Couldn't find available_diagnostics.log in /central/groups/oceanphysics/anirban/ASTE_runs/astedata/. Using default version.\n",
      "  \"in %s. Using default version.\" % data_dir)\n",
      "/central/groups/oceanphysics/anirban/miniconda/envs/mypythonenv1/lib/python3.6/site-packages/xmitgcm-0.2.2-py3.6.egg/xmitgcm/mds_store.py:807: UserWarning: Couldn't find available_diagnostics.log in /central/groups/oceanphysics/anirban/ASTE_runs/astedata/. Using default version.\n",
      "  \"in %s. Using default version.\" % data_dir)\n",
      "/central/groups/oceanphysics/anirban/miniconda/envs/mypythonenv1/lib/python3.6/site-packages/xmitgcm-0.2.2-py3.6.egg/xmitgcm/mds_store.py:807: UserWarning: Couldn't find available_diagnostics.log in /central/groups/oceanphysics/anirban/ASTE_runs/astedata/. Using default version.\n",
      "  \"in %s. Using default version.\" % data_dir)\n",
      "/central/groups/oceanphysics/anirban/miniconda/envs/mypythonenv1/lib/python3.6/site-packages/xmitgcm-0.2.2-py3.6.egg/xmitgcm/mds_store.py:807: UserWarning: Couldn't find available_diagnostics.log in /central/groups/oceanphysics/anirban/ASTE_runs/astedata/. Using default version.\n",
      "  \"in %s. Using default version.\" % data_dir)\n",
      "/central/groups/oceanphysics/anirban/miniconda/envs/mypythonenv1/lib/python3.6/site-packages/xmitgcm-0.2.2-py3.6.egg/xmitgcm/mds_store.py:807: UserWarning: Couldn't find available_diagnostics.log in /central/groups/oceanphysics/anirban/ASTE_runs/astedata/. Using default version.\n",
      "  \"in %s. Using default version.\" % data_dir)\n",
      "/central/groups/oceanphysics/anirban/miniconda/envs/mypythonenv1/lib/python3.6/site-packages/xmitgcm-0.2.2-py3.6.egg/xmitgcm/mds_store.py:807: UserWarning: Couldn't find available_diagnostics.log in /central/groups/oceanphysics/anirban/ASTE_runs/astedata/. Using default version.\n",
      "  \"in %s. Using default version.\" % data_dir)\n",
      "/central/groups/oceanphysics/anirban/miniconda/envs/mypythonenv1/lib/python3.6/site-packages/xmitgcm-0.2.2-py3.6.egg/xmitgcm/mds_store.py:807: UserWarning: Couldn't find available_diagnostics.log in /central/groups/oceanphysics/anirban/ASTE_runs/astedata/. Using default version.\n",
      "  \"in %s. Using default version.\" % data_dir)\n",
      "/central/groups/oceanphysics/anirban/miniconda/envs/mypythonenv1/lib/python3.6/site-packages/xmitgcm-0.2.2-py3.6.egg/xmitgcm/mds_store.py:807: UserWarning: Couldn't find available_diagnostics.log in /central/groups/oceanphysics/anirban/ASTE_runs/astedata/. Using default version.\n",
      "  \"in %s. Using default version.\" % data_dir)\n",
      "/central/groups/oceanphysics/anirban/miniconda/envs/mypythonenv1/lib/python3.6/site-packages/xmitgcm-0.2.2-py3.6.egg/xmitgcm/mds_store.py:807: UserWarning: Couldn't find available_diagnostics.log in /central/groups/oceanphysics/anirban/ASTE_runs/astedata/. Using default version.\n",
      "  \"in %s. Using default version.\" % data_dir)\n",
      "/central/groups/oceanphysics/anirban/miniconda/envs/mypythonenv1/lib/python3.6/site-packages/xmitgcm-0.2.2-py3.6.egg/xmitgcm/mds_store.py:807: UserWarning: Couldn't find available_diagnostics.log in /central/groups/oceanphysics/anirban/ASTE_runs/astedata/. Using default version.\n",
      "  \"in %s. Using default version.\" % data_dir)\n",
      "/central/groups/oceanphysics/anirban/miniconda/envs/mypythonenv1/lib/python3.6/site-packages/xmitgcm-0.2.2-py3.6.egg/xmitgcm/mds_store.py:807: UserWarning: Couldn't find available_diagnostics.log in /central/groups/oceanphysics/anirban/ASTE_runs/astedata/. Using default version.\n",
      "  \"in %s. Using default version.\" % data_dir)\n",
      "/central/groups/oceanphysics/anirban/miniconda/envs/mypythonenv1/lib/python3.6/site-packages/xmitgcm-0.2.2-py3.6.egg/xmitgcm/mds_store.py:807: UserWarning: Couldn't find available_diagnostics.log in /central/groups/oceanphysics/anirban/ASTE_runs/astedata/. Using default version.\n",
      "  \"in %s. Using default version.\" % data_dir)\n",
      "/central/groups/oceanphysics/anirban/miniconda/envs/mypythonenv1/lib/python3.6/site-packages/xmitgcm-0.2.2-py3.6.egg/xmitgcm/mds_store.py:807: UserWarning: Couldn't find available_diagnostics.log in /central/groups/oceanphysics/anirban/ASTE_runs/astedata/. Using default version.\n",
      "  \"in %s. Using default version.\" % data_dir)\n",
      "/central/groups/oceanphysics/anirban/miniconda/envs/mypythonenv1/lib/python3.6/site-packages/xmitgcm-0.2.2-py3.6.egg/xmitgcm/mds_store.py:807: UserWarning: Couldn't find available_diagnostics.log in /central/groups/oceanphysics/anirban/ASTE_runs/astedata/. Using default version.\n",
      "  \"in %s. Using default version.\" % data_dir)\n",
      "/central/groups/oceanphysics/anirban/miniconda/envs/mypythonenv1/lib/python3.6/site-packages/xmitgcm-0.2.2-py3.6.egg/xmitgcm/mds_store.py:807: UserWarning: Couldn't find available_diagnostics.log in /central/groups/oceanphysics/anirban/ASTE_runs/astedata/. Using default version.\n",
      "  \"in %s. Using default version.\" % data_dir)\n",
      "/central/groups/oceanphysics/anirban/miniconda/envs/mypythonenv1/lib/python3.6/site-packages/xmitgcm-0.2.2-py3.6.egg/xmitgcm/mds_store.py:807: UserWarning: Couldn't find available_diagnostics.log in /central/groups/oceanphysics/anirban/ASTE_runs/astedata/. Using default version.\n",
      "  \"in %s. Using default version.\" % data_dir)\n",
      "/central/groups/oceanphysics/anirban/miniconda/envs/mypythonenv1/lib/python3.6/site-packages/xmitgcm-0.2.2-py3.6.egg/xmitgcm/mds_store.py:807: UserWarning: Couldn't find available_diagnostics.log in /central/groups/oceanphysics/anirban/ASTE_runs/astedata/. Using default version.\n",
      "  \"in %s. Using default version.\" % data_dir)\n",
      "/central/groups/oceanphysics/anirban/miniconda/envs/mypythonenv1/lib/python3.6/site-packages/xmitgcm-0.2.2-py3.6.egg/xmitgcm/mds_store.py:807: UserWarning: Couldn't find available_diagnostics.log in /central/groups/oceanphysics/anirban/ASTE_runs/astedata/. Using default version.\n",
      "  \"in %s. Using default version.\" % data_dir)\n",
      "/central/groups/oceanphysics/anirban/miniconda/envs/mypythonenv1/lib/python3.6/site-packages/xmitgcm-0.2.2-py3.6.egg/xmitgcm/mds_store.py:807: UserWarning: Couldn't find available_diagnostics.log in /central/groups/oceanphysics/anirban/ASTE_runs/astedata/. Using default version.\n",
      "  \"in %s. Using default version.\" % data_dir)\n",
      "/central/groups/oceanphysics/anirban/miniconda/envs/mypythonenv1/lib/python3.6/site-packages/xmitgcm-0.2.2-py3.6.egg/xmitgcm/mds_store.py:807: UserWarning: Couldn't find available_diagnostics.log in /central/groups/oceanphysics/anirban/ASTE_runs/astedata/. Using default version.\n",
      "  \"in %s. Using default version.\" % data_dir)\n",
      "/central/groups/oceanphysics/anirban/miniconda/envs/mypythonenv1/lib/python3.6/site-packages/xmitgcm-0.2.2-py3.6.egg/xmitgcm/mds_store.py:807: UserWarning: Couldn't find available_diagnostics.log in /central/groups/oceanphysics/anirban/ASTE_runs/astedata/. Using default version.\n",
      "  \"in %s. Using default version.\" % data_dir)\n",
      "/central/groups/oceanphysics/anirban/miniconda/envs/mypythonenv1/lib/python3.6/site-packages/xmitgcm-0.2.2-py3.6.egg/xmitgcm/mds_store.py:807: UserWarning: Couldn't find available_diagnostics.log in /central/groups/oceanphysics/anirban/ASTE_runs/astedata/. Using default version.\n",
      "  \"in %s. Using default version.\" % data_dir)\n",
      "/central/groups/oceanphysics/anirban/miniconda/envs/mypythonenv1/lib/python3.6/site-packages/xmitgcm-0.2.2-py3.6.egg/xmitgcm/mds_store.py:807: UserWarning: Couldn't find available_diagnostics.log in /central/groups/oceanphysics/anirban/ASTE_runs/astedata/. Using default version.\n",
      "  \"in %s. Using default version.\" % data_dir)\n",
      "/central/groups/oceanphysics/anirban/miniconda/envs/mypythonenv1/lib/python3.6/site-packages/xmitgcm-0.2.2-py3.6.egg/xmitgcm/mds_store.py:807: UserWarning: Couldn't find available_diagnostics.log in /central/groups/oceanphysics/anirban/ASTE_runs/astedata/. Using default version.\n",
      "  \"in %s. Using default version.\" % data_dir)\n",
      "/central/groups/oceanphysics/anirban/miniconda/envs/mypythonenv1/lib/python3.6/site-packages/xmitgcm-0.2.2-py3.6.egg/xmitgcm/mds_store.py:807: UserWarning: Couldn't find available_diagnostics.log in /central/groups/oceanphysics/anirban/ASTE_runs/astedata/. Using default version.\n",
      "  \"in %s. Using default version.\" % data_dir)\n",
      "/central/groups/oceanphysics/anirban/miniconda/envs/mypythonenv1/lib/python3.6/site-packages/xmitgcm-0.2.2-py3.6.egg/xmitgcm/mds_store.py:807: UserWarning: Couldn't find available_diagnostics.log in /central/groups/oceanphysics/anirban/ASTE_runs/astedata/. Using default version.\n",
      "  \"in %s. Using default version.\" % data_dir)\n",
      "/central/groups/oceanphysics/anirban/miniconda/envs/mypythonenv1/lib/python3.6/site-packages/xmitgcm-0.2.2-py3.6.egg/xmitgcm/mds_store.py:807: UserWarning: Couldn't find available_diagnostics.log in /central/groups/oceanphysics/anirban/ASTE_runs/astedata/. Using default version.\n",
      "  \"in %s. Using default version.\" % data_dir)\n",
      "/central/groups/oceanphysics/anirban/miniconda/envs/mypythonenv1/lib/python3.6/site-packages/xmitgcm-0.2.2-py3.6.egg/xmitgcm/mds_store.py:807: UserWarning: Couldn't find available_diagnostics.log in /central/groups/oceanphysics/anirban/ASTE_runs/astedata/. Using default version.\n",
      "  \"in %s. Using default version.\" % data_dir)\n",
      "/central/groups/oceanphysics/anirban/miniconda/envs/mypythonenv1/lib/python3.6/site-packages/xmitgcm-0.2.2-py3.6.egg/xmitgcm/mds_store.py:807: UserWarning: Couldn't find available_diagnostics.log in /central/groups/oceanphysics/anirban/ASTE_runs/astedata/. Using default version.\n",
      "  \"in %s. Using default version.\" % data_dir)\n",
      "/central/groups/oceanphysics/anirban/miniconda/envs/mypythonenv1/lib/python3.6/site-packages/xmitgcm-0.2.2-py3.6.egg/xmitgcm/mds_store.py:807: UserWarning: Couldn't find available_diagnostics.log in /central/groups/oceanphysics/anirban/ASTE_runs/astedata/. Using default version.\n",
      "  \"in %s. Using default version.\" % data_dir)\n",
      "/central/groups/oceanphysics/anirban/miniconda/envs/mypythonenv1/lib/python3.6/site-packages/xmitgcm-0.2.2-py3.6.egg/xmitgcm/mds_store.py:807: UserWarning: Couldn't find available_diagnostics.log in /central/groups/oceanphysics/anirban/ASTE_runs/astedata/. Using default version.\n",
      "  \"in %s. Using default version.\" % data_dir)\n",
      "/central/groups/oceanphysics/anirban/miniconda/envs/mypythonenv1/lib/python3.6/site-packages/xmitgcm-0.2.2-py3.6.egg/xmitgcm/mds_store.py:807: UserWarning: Couldn't find available_diagnostics.log in /central/groups/oceanphysics/anirban/ASTE_runs/astedata/. Using default version.\n",
      "  \"in %s. Using default version.\" % data_dir)\n"
     ]
    },
    {
     "name": "stderr",
     "output_type": "stream",
     "text": [
      "/central/groups/oceanphysics/anirban/miniconda/envs/mypythonenv1/lib/python3.6/site-packages/xmitgcm-0.2.2-py3.6.egg/xmitgcm/mds_store.py:807: UserWarning: Couldn't find available_diagnostics.log in /central/groups/oceanphysics/anirban/ASTE_runs/astedata/. Using default version.\n",
      "  \"in %s. Using default version.\" % data_dir)\n",
      "/central/groups/oceanphysics/anirban/miniconda/envs/mypythonenv1/lib/python3.6/site-packages/xmitgcm-0.2.2-py3.6.egg/xmitgcm/mds_store.py:807: UserWarning: Couldn't find available_diagnostics.log in /central/groups/oceanphysics/anirban/ASTE_runs/astedata/. Using default version.\n",
      "  \"in %s. Using default version.\" % data_dir)\n",
      "/central/groups/oceanphysics/anirban/miniconda/envs/mypythonenv1/lib/python3.6/site-packages/xmitgcm-0.2.2-py3.6.egg/xmitgcm/mds_store.py:807: UserWarning: Couldn't find available_diagnostics.log in /central/groups/oceanphysics/anirban/ASTE_runs/astedata/. Using default version.\n",
      "  \"in %s. Using default version.\" % data_dir)\n",
      "/central/groups/oceanphysics/anirban/miniconda/envs/mypythonenv1/lib/python3.6/site-packages/xmitgcm-0.2.2-py3.6.egg/xmitgcm/mds_store.py:807: UserWarning: Couldn't find available_diagnostics.log in /central/groups/oceanphysics/anirban/ASTE_runs/astedata/. Using default version.\n",
      "  \"in %s. Using default version.\" % data_dir)\n",
      "/central/groups/oceanphysics/anirban/miniconda/envs/mypythonenv1/lib/python3.6/site-packages/xmitgcm-0.2.2-py3.6.egg/xmitgcm/mds_store.py:807: UserWarning: Couldn't find available_diagnostics.log in /central/groups/oceanphysics/anirban/ASTE_runs/astedata/. Using default version.\n",
      "  \"in %s. Using default version.\" % data_dir)\n",
      "/central/groups/oceanphysics/anirban/miniconda/envs/mypythonenv1/lib/python3.6/site-packages/xmitgcm-0.2.2-py3.6.egg/xmitgcm/mds_store.py:807: UserWarning: Couldn't find available_diagnostics.log in /central/groups/oceanphysics/anirban/ASTE_runs/astedata/. Using default version.\n",
      "  \"in %s. Using default version.\" % data_dir)\n",
      "/central/groups/oceanphysics/anirban/miniconda/envs/mypythonenv1/lib/python3.6/site-packages/xmitgcm-0.2.2-py3.6.egg/xmitgcm/mds_store.py:807: UserWarning: Couldn't find available_diagnostics.log in /central/groups/oceanphysics/anirban/ASTE_runs/astedata/. Using default version.\n",
      "  \"in %s. Using default version.\" % data_dir)\n",
      "/central/groups/oceanphysics/anirban/miniconda/envs/mypythonenv1/lib/python3.6/site-packages/xmitgcm-0.2.2-py3.6.egg/xmitgcm/mds_store.py:807: UserWarning: Couldn't find available_diagnostics.log in /central/groups/oceanphysics/anirban/ASTE_runs/astedata/. Using default version.\n",
      "  \"in %s. Using default version.\" % data_dir)\n",
      "/central/groups/oceanphysics/anirban/miniconda/envs/mypythonenv1/lib/python3.6/site-packages/xmitgcm-0.2.2-py3.6.egg/xmitgcm/mds_store.py:807: UserWarning: Couldn't find available_diagnostics.log in /central/groups/oceanphysics/anirban/ASTE_runs/astedata/. Using default version.\n",
      "  \"in %s. Using default version.\" % data_dir)\n",
      "/central/groups/oceanphysics/anirban/miniconda/envs/mypythonenv1/lib/python3.6/site-packages/xmitgcm-0.2.2-py3.6.egg/xmitgcm/mds_store.py:807: UserWarning: Couldn't find available_diagnostics.log in /central/groups/oceanphysics/anirban/ASTE_runs/astedata/. Using default version.\n",
      "  \"in %s. Using default version.\" % data_dir)\n",
      "/central/groups/oceanphysics/anirban/miniconda/envs/mypythonenv1/lib/python3.6/site-packages/xmitgcm-0.2.2-py3.6.egg/xmitgcm/mds_store.py:807: UserWarning: Couldn't find available_diagnostics.log in /central/groups/oceanphysics/anirban/ASTE_runs/astedata/. Using default version.\n",
      "  \"in %s. Using default version.\" % data_dir)\n",
      "/central/groups/oceanphysics/anirban/miniconda/envs/mypythonenv1/lib/python3.6/site-packages/xmitgcm-0.2.2-py3.6.egg/xmitgcm/mds_store.py:807: UserWarning: Couldn't find available_diagnostics.log in /central/groups/oceanphysics/anirban/ASTE_runs/astedata/. Using default version.\n",
      "  \"in %s. Using default version.\" % data_dir)\n",
      "/central/groups/oceanphysics/anirban/miniconda/envs/mypythonenv1/lib/python3.6/site-packages/xmitgcm-0.2.2-py3.6.egg/xmitgcm/mds_store.py:807: UserWarning: Couldn't find available_diagnostics.log in /central/groups/oceanphysics/anirban/ASTE_runs/astedata/. Using default version.\n",
      "  \"in %s. Using default version.\" % data_dir)\n",
      "/central/groups/oceanphysics/anirban/miniconda/envs/mypythonenv1/lib/python3.6/site-packages/xmitgcm-0.2.2-py3.6.egg/xmitgcm/mds_store.py:807: UserWarning: Couldn't find available_diagnostics.log in /central/groups/oceanphysics/anirban/ASTE_runs/astedata/. Using default version.\n",
      "  \"in %s. Using default version.\" % data_dir)\n",
      "/central/groups/oceanphysics/anirban/miniconda/envs/mypythonenv1/lib/python3.6/site-packages/xmitgcm-0.2.2-py3.6.egg/xmitgcm/mds_store.py:807: UserWarning: Couldn't find available_diagnostics.log in /central/groups/oceanphysics/anirban/ASTE_runs/astedata/. Using default version.\n",
      "  \"in %s. Using default version.\" % data_dir)\n",
      "/central/groups/oceanphysics/anirban/miniconda/envs/mypythonenv1/lib/python3.6/site-packages/xmitgcm-0.2.2-py3.6.egg/xmitgcm/mds_store.py:807: UserWarning: Couldn't find available_diagnostics.log in /central/groups/oceanphysics/anirban/ASTE_runs/astedata/. Using default version.\n",
      "  \"in %s. Using default version.\" % data_dir)\n",
      "/central/groups/oceanphysics/anirban/miniconda/envs/mypythonenv1/lib/python3.6/site-packages/xmitgcm-0.2.2-py3.6.egg/xmitgcm/mds_store.py:807: UserWarning: Couldn't find available_diagnostics.log in /central/groups/oceanphysics/anirban/ASTE_runs/astedata/. Using default version.\n",
      "  \"in %s. Using default version.\" % data_dir)\n",
      "/central/groups/oceanphysics/anirban/miniconda/envs/mypythonenv1/lib/python3.6/site-packages/xmitgcm-0.2.2-py3.6.egg/xmitgcm/mds_store.py:807: UserWarning: Couldn't find available_diagnostics.log in /central/groups/oceanphysics/anirban/ASTE_runs/astedata/. Using default version.\n",
      "  \"in %s. Using default version.\" % data_dir)\n",
      "/central/groups/oceanphysics/anirban/miniconda/envs/mypythonenv1/lib/python3.6/site-packages/xmitgcm-0.2.2-py3.6.egg/xmitgcm/mds_store.py:807: UserWarning: Couldn't find available_diagnostics.log in /central/groups/oceanphysics/anirban/ASTE_runs/astedata/. Using default version.\n",
      "  \"in %s. Using default version.\" % data_dir)\n",
      "/central/groups/oceanphysics/anirban/miniconda/envs/mypythonenv1/lib/python3.6/site-packages/xmitgcm-0.2.2-py3.6.egg/xmitgcm/mds_store.py:807: UserWarning: Couldn't find available_diagnostics.log in /central/groups/oceanphysics/anirban/ASTE_runs/astedata/. Using default version.\n",
      "  \"in %s. Using default version.\" % data_dir)\n",
      "/central/groups/oceanphysics/anirban/miniconda/envs/mypythonenv1/lib/python3.6/site-packages/xmitgcm-0.2.2-py3.6.egg/xmitgcm/mds_store.py:807: UserWarning: Couldn't find available_diagnostics.log in /central/groups/oceanphysics/anirban/ASTE_runs/astedata/. Using default version.\n",
      "  \"in %s. Using default version.\" % data_dir)\n",
      "/central/groups/oceanphysics/anirban/miniconda/envs/mypythonenv1/lib/python3.6/site-packages/xmitgcm-0.2.2-py3.6.egg/xmitgcm/mds_store.py:807: UserWarning: Couldn't find available_diagnostics.log in /central/groups/oceanphysics/anirban/ASTE_runs/astedata/. Using default version.\n",
      "  \"in %s. Using default version.\" % data_dir)\n",
      "/central/groups/oceanphysics/anirban/miniconda/envs/mypythonenv1/lib/python3.6/site-packages/xmitgcm-0.2.2-py3.6.egg/xmitgcm/mds_store.py:807: UserWarning: Couldn't find available_diagnostics.log in /central/groups/oceanphysics/anirban/ASTE_runs/astedata/. Using default version.\n",
      "  \"in %s. Using default version.\" % data_dir)\n",
      "/central/groups/oceanphysics/anirban/miniconda/envs/mypythonenv1/lib/python3.6/site-packages/xmitgcm-0.2.2-py3.6.egg/xmitgcm/mds_store.py:807: UserWarning: Couldn't find available_diagnostics.log in /central/groups/oceanphysics/anirban/ASTE_runs/astedata/. Using default version.\n",
      "  \"in %s. Using default version.\" % data_dir)\n",
      "/central/groups/oceanphysics/anirban/miniconda/envs/mypythonenv1/lib/python3.6/site-packages/xmitgcm-0.2.2-py3.6.egg/xmitgcm/mds_store.py:807: UserWarning: Couldn't find available_diagnostics.log in /central/groups/oceanphysics/anirban/ASTE_runs/astedata/. Using default version.\n",
      "  \"in %s. Using default version.\" % data_dir)\n",
      "/central/groups/oceanphysics/anirban/miniconda/envs/mypythonenv1/lib/python3.6/site-packages/xmitgcm-0.2.2-py3.6.egg/xmitgcm/mds_store.py:807: UserWarning: Couldn't find available_diagnostics.log in /central/groups/oceanphysics/anirban/ASTE_runs/astedata/. Using default version.\n",
      "  \"in %s. Using default version.\" % data_dir)\n"
     ]
    },
    {
     "name": "stderr",
     "output_type": "stream",
     "text": [
      "/central/groups/oceanphysics/anirban/miniconda/envs/mypythonenv1/lib/python3.6/site-packages/xmitgcm-0.2.2-py3.6.egg/xmitgcm/mds_store.py:807: UserWarning: Couldn't find available_diagnostics.log in /central/groups/oceanphysics/anirban/ASTE_runs/astedata/. Using default version.\n",
      "  \"in %s. Using default version.\" % data_dir)\n",
      "/central/groups/oceanphysics/anirban/miniconda/envs/mypythonenv1/lib/python3.6/site-packages/xmitgcm-0.2.2-py3.6.egg/xmitgcm/mds_store.py:807: UserWarning: Couldn't find available_diagnostics.log in /central/groups/oceanphysics/anirban/ASTE_runs/astedata/. Using default version.\n",
      "  \"in %s. Using default version.\" % data_dir)\n",
      "/central/groups/oceanphysics/anirban/miniconda/envs/mypythonenv1/lib/python3.6/site-packages/xmitgcm-0.2.2-py3.6.egg/xmitgcm/mds_store.py:807: UserWarning: Couldn't find available_diagnostics.log in /central/groups/oceanphysics/anirban/ASTE_runs/astedata/. Using default version.\n",
      "  \"in %s. Using default version.\" % data_dir)\n",
      "/central/groups/oceanphysics/anirban/miniconda/envs/mypythonenv1/lib/python3.6/site-packages/xmitgcm-0.2.2-py3.6.egg/xmitgcm/mds_store.py:807: UserWarning: Couldn't find available_diagnostics.log in /central/groups/oceanphysics/anirban/ASTE_runs/astedata/. Using default version.\n",
      "  \"in %s. Using default version.\" % data_dir)\n",
      "/central/groups/oceanphysics/anirban/miniconda/envs/mypythonenv1/lib/python3.6/site-packages/xmitgcm-0.2.2-py3.6.egg/xmitgcm/mds_store.py:807: UserWarning: Couldn't find available_diagnostics.log in /central/groups/oceanphysics/anirban/ASTE_runs/astedata/. Using default version.\n",
      "  \"in %s. Using default version.\" % data_dir)\n",
      "/central/groups/oceanphysics/anirban/miniconda/envs/mypythonenv1/lib/python3.6/site-packages/xmitgcm-0.2.2-py3.6.egg/xmitgcm/mds_store.py:807: UserWarning: Couldn't find available_diagnostics.log in /central/groups/oceanphysics/anirban/ASTE_runs/astedata/. Using default version.\n",
      "  \"in %s. Using default version.\" % data_dir)\n",
      "/central/groups/oceanphysics/anirban/miniconda/envs/mypythonenv1/lib/python3.6/site-packages/xmitgcm-0.2.2-py3.6.egg/xmitgcm/mds_store.py:807: UserWarning: Couldn't find available_diagnostics.log in /central/groups/oceanphysics/anirban/ASTE_runs/astedata/. Using default version.\n",
      "  \"in %s. Using default version.\" % data_dir)\n",
      "/central/groups/oceanphysics/anirban/miniconda/envs/mypythonenv1/lib/python3.6/site-packages/xmitgcm-0.2.2-py3.6.egg/xmitgcm/mds_store.py:807: UserWarning: Couldn't find available_diagnostics.log in /central/groups/oceanphysics/anirban/ASTE_runs/astedata/. Using default version.\n",
      "  \"in %s. Using default version.\" % data_dir)\n",
      "/central/groups/oceanphysics/anirban/miniconda/envs/mypythonenv1/lib/python3.6/site-packages/xmitgcm-0.2.2-py3.6.egg/xmitgcm/mds_store.py:807: UserWarning: Couldn't find available_diagnostics.log in /central/groups/oceanphysics/anirban/ASTE_runs/astedata/. Using default version.\n",
      "  \"in %s. Using default version.\" % data_dir)\n",
      "/central/groups/oceanphysics/anirban/miniconda/envs/mypythonenv1/lib/python3.6/site-packages/xmitgcm-0.2.2-py3.6.egg/xmitgcm/mds_store.py:807: UserWarning: Couldn't find available_diagnostics.log in /central/groups/oceanphysics/anirban/ASTE_runs/astedata/. Using default version.\n",
      "  \"in %s. Using default version.\" % data_dir)\n",
      "/central/groups/oceanphysics/anirban/miniconda/envs/mypythonenv1/lib/python3.6/site-packages/xmitgcm-0.2.2-py3.6.egg/xmitgcm/mds_store.py:807: UserWarning: Couldn't find available_diagnostics.log in /central/groups/oceanphysics/anirban/ASTE_runs/astedata/. Using default version.\n",
      "  \"in %s. Using default version.\" % data_dir)\n",
      "/central/groups/oceanphysics/anirban/miniconda/envs/mypythonenv1/lib/python3.6/site-packages/xmitgcm-0.2.2-py3.6.egg/xmitgcm/mds_store.py:807: UserWarning: Couldn't find available_diagnostics.log in /central/groups/oceanphysics/anirban/ASTE_runs/astedata/. Using default version.\n",
      "  \"in %s. Using default version.\" % data_dir)\n",
      "/central/groups/oceanphysics/anirban/miniconda/envs/mypythonenv1/lib/python3.6/site-packages/xmitgcm-0.2.2-py3.6.egg/xmitgcm/mds_store.py:807: UserWarning: Couldn't find available_diagnostics.log in /central/groups/oceanphysics/anirban/ASTE_runs/astedata/. Using default version.\n",
      "  \"in %s. Using default version.\" % data_dir)\n",
      "/central/groups/oceanphysics/anirban/miniconda/envs/mypythonenv1/lib/python3.6/site-packages/xmitgcm-0.2.2-py3.6.egg/xmitgcm/mds_store.py:807: UserWarning: Couldn't find available_diagnostics.log in /central/groups/oceanphysics/anirban/ASTE_runs/astedata/. Using default version.\n",
      "  \"in %s. Using default version.\" % data_dir)\n",
      "/central/groups/oceanphysics/anirban/miniconda/envs/mypythonenv1/lib/python3.6/site-packages/xmitgcm-0.2.2-py3.6.egg/xmitgcm/mds_store.py:807: UserWarning: Couldn't find available_diagnostics.log in /central/groups/oceanphysics/anirban/ASTE_runs/astedata/. Using default version.\n",
      "  \"in %s. Using default version.\" % data_dir)\n",
      "/central/groups/oceanphysics/anirban/miniconda/envs/mypythonenv1/lib/python3.6/site-packages/xmitgcm-0.2.2-py3.6.egg/xmitgcm/mds_store.py:807: UserWarning: Couldn't find available_diagnostics.log in /central/groups/oceanphysics/anirban/ASTE_runs/astedata/. Using default version.\n",
      "  \"in %s. Using default version.\" % data_dir)\n",
      "/central/groups/oceanphysics/anirban/miniconda/envs/mypythonenv1/lib/python3.6/site-packages/xmitgcm-0.2.2-py3.6.egg/xmitgcm/mds_store.py:807: UserWarning: Couldn't find available_diagnostics.log in /central/groups/oceanphysics/anirban/ASTE_runs/astedata/. Using default version.\n",
      "  \"in %s. Using default version.\" % data_dir)\n",
      "/central/groups/oceanphysics/anirban/miniconda/envs/mypythonenv1/lib/python3.6/site-packages/xmitgcm-0.2.2-py3.6.egg/xmitgcm/mds_store.py:807: UserWarning: Couldn't find available_diagnostics.log in /central/groups/oceanphysics/anirban/ASTE_runs/astedata/. Using default version.\n",
      "  \"in %s. Using default version.\" % data_dir)\n",
      "/central/groups/oceanphysics/anirban/miniconda/envs/mypythonenv1/lib/python3.6/site-packages/xmitgcm-0.2.2-py3.6.egg/xmitgcm/mds_store.py:807: UserWarning: Couldn't find available_diagnostics.log in /central/groups/oceanphysics/anirban/ASTE_runs/astedata/. Using default version.\n",
      "  \"in %s. Using default version.\" % data_dir)\n",
      "/central/groups/oceanphysics/anirban/miniconda/envs/mypythonenv1/lib/python3.6/site-packages/xmitgcm-0.2.2-py3.6.egg/xmitgcm/mds_store.py:807: UserWarning: Couldn't find available_diagnostics.log in /central/groups/oceanphysics/anirban/ASTE_runs/astedata/. Using default version.\n",
      "  \"in %s. Using default version.\" % data_dir)\n",
      "/central/groups/oceanphysics/anirban/miniconda/envs/mypythonenv1/lib/python3.6/site-packages/xmitgcm-0.2.2-py3.6.egg/xmitgcm/mds_store.py:807: UserWarning: Couldn't find available_diagnostics.log in /central/groups/oceanphysics/anirban/ASTE_runs/astedata/. Using default version.\n",
      "  \"in %s. Using default version.\" % data_dir)\n",
      "/central/groups/oceanphysics/anirban/miniconda/envs/mypythonenv1/lib/python3.6/site-packages/xmitgcm-0.2.2-py3.6.egg/xmitgcm/mds_store.py:807: UserWarning: Couldn't find available_diagnostics.log in /central/groups/oceanphysics/anirban/ASTE_runs/astedata/. Using default version.\n",
      "  \"in %s. Using default version.\" % data_dir)\n",
      "/central/groups/oceanphysics/anirban/miniconda/envs/mypythonenv1/lib/python3.6/site-packages/xmitgcm-0.2.2-py3.6.egg/xmitgcm/mds_store.py:807: UserWarning: Couldn't find available_diagnostics.log in /central/groups/oceanphysics/anirban/ASTE_runs/astedata/. Using default version.\n",
      "  \"in %s. Using default version.\" % data_dir)\n",
      "/central/groups/oceanphysics/anirban/miniconda/envs/mypythonenv1/lib/python3.6/site-packages/xmitgcm-0.2.2-py3.6.egg/xmitgcm/mds_store.py:807: UserWarning: Couldn't find available_diagnostics.log in /central/groups/oceanphysics/anirban/ASTE_runs/astedata/. Using default version.\n",
      "  \"in %s. Using default version.\" % data_dir)\n",
      "/central/groups/oceanphysics/anirban/miniconda/envs/mypythonenv1/lib/python3.6/site-packages/xmitgcm-0.2.2-py3.6.egg/xmitgcm/mds_store.py:807: UserWarning: Couldn't find available_diagnostics.log in /central/groups/oceanphysics/anirban/ASTE_runs/astedata/. Using default version.\n",
      "  \"in %s. Using default version.\" % data_dir)\n",
      "/central/groups/oceanphysics/anirban/miniconda/envs/mypythonenv1/lib/python3.6/site-packages/xmitgcm-0.2.2-py3.6.egg/xmitgcm/mds_store.py:807: UserWarning: Couldn't find available_diagnostics.log in /central/groups/oceanphysics/anirban/ASTE_runs/astedata/. Using default version.\n",
      "  \"in %s. Using default version.\" % data_dir)\n",
      "/central/groups/oceanphysics/anirban/miniconda/envs/mypythonenv1/lib/python3.6/site-packages/xmitgcm-0.2.2-py3.6.egg/xmitgcm/mds_store.py:807: UserWarning: Couldn't find available_diagnostics.log in /central/groups/oceanphysics/anirban/ASTE_runs/astedata/. Using default version.\n",
      "  \"in %s. Using default version.\" % data_dir)\n",
      "/central/groups/oceanphysics/anirban/miniconda/envs/mypythonenv1/lib/python3.6/site-packages/xmitgcm-0.2.2-py3.6.egg/xmitgcm/mds_store.py:807: UserWarning: Couldn't find available_diagnostics.log in /central/groups/oceanphysics/anirban/ASTE_runs/astedata/. Using default version.\n",
      "  \"in %s. Using default version.\" % data_dir)\n",
      "/central/groups/oceanphysics/anirban/miniconda/envs/mypythonenv1/lib/python3.6/site-packages/xmitgcm-0.2.2-py3.6.egg/xmitgcm/mds_store.py:807: UserWarning: Couldn't find available_diagnostics.log in /central/groups/oceanphysics/anirban/ASTE_runs/astedata/. Using default version.\n",
      "  \"in %s. Using default version.\" % data_dir)\n"
     ]
    },
    {
     "name": "stderr",
     "output_type": "stream",
     "text": [
      "/central/groups/oceanphysics/anirban/miniconda/envs/mypythonenv1/lib/python3.6/site-packages/xmitgcm-0.2.2-py3.6.egg/xmitgcm/mds_store.py:807: UserWarning: Couldn't find available_diagnostics.log in /central/groups/oceanphysics/anirban/ASTE_runs/astedata/. Using default version.\n",
      "  \"in %s. Using default version.\" % data_dir)\n",
      "/central/groups/oceanphysics/anirban/miniconda/envs/mypythonenv1/lib/python3.6/site-packages/xmitgcm-0.2.2-py3.6.egg/xmitgcm/mds_store.py:807: UserWarning: Couldn't find available_diagnostics.log in /central/groups/oceanphysics/anirban/ASTE_runs/astedata/. Using default version.\n",
      "  \"in %s. Using default version.\" % data_dir)\n",
      "/central/groups/oceanphysics/anirban/miniconda/envs/mypythonenv1/lib/python3.6/site-packages/xmitgcm-0.2.2-py3.6.egg/xmitgcm/mds_store.py:807: UserWarning: Couldn't find available_diagnostics.log in /central/groups/oceanphysics/anirban/ASTE_runs/astedata/. Using default version.\n",
      "  \"in %s. Using default version.\" % data_dir)\n",
      "/central/groups/oceanphysics/anirban/miniconda/envs/mypythonenv1/lib/python3.6/site-packages/xmitgcm-0.2.2-py3.6.egg/xmitgcm/mds_store.py:807: UserWarning: Couldn't find available_diagnostics.log in /central/groups/oceanphysics/anirban/ASTE_runs/astedata/. Using default version.\n",
      "  \"in %s. Using default version.\" % data_dir)\n",
      "/central/groups/oceanphysics/anirban/miniconda/envs/mypythonenv1/lib/python3.6/site-packages/xmitgcm-0.2.2-py3.6.egg/xmitgcm/mds_store.py:807: UserWarning: Couldn't find available_diagnostics.log in /central/groups/oceanphysics/anirban/ASTE_runs/astedata/. Using default version.\n",
      "  \"in %s. Using default version.\" % data_dir)\n",
      "/central/groups/oceanphysics/anirban/miniconda/envs/mypythonenv1/lib/python3.6/site-packages/xmitgcm-0.2.2-py3.6.egg/xmitgcm/mds_store.py:807: UserWarning: Couldn't find available_diagnostics.log in /central/groups/oceanphysics/anirban/ASTE_runs/astedata/. Using default version.\n",
      "  \"in %s. Using default version.\" % data_dir)\n",
      "/central/groups/oceanphysics/anirban/miniconda/envs/mypythonenv1/lib/python3.6/site-packages/xmitgcm-0.2.2-py3.6.egg/xmitgcm/mds_store.py:807: UserWarning: Couldn't find available_diagnostics.log in /central/groups/oceanphysics/anirban/ASTE_runs/astedata/. Using default version.\n",
      "  \"in %s. Using default version.\" % data_dir)\n",
      "/central/groups/oceanphysics/anirban/miniconda/envs/mypythonenv1/lib/python3.6/site-packages/xmitgcm-0.2.2-py3.6.egg/xmitgcm/mds_store.py:807: UserWarning: Couldn't find available_diagnostics.log in /central/groups/oceanphysics/anirban/ASTE_runs/astedata/. Using default version.\n",
      "  \"in %s. Using default version.\" % data_dir)\n",
      "/central/groups/oceanphysics/anirban/miniconda/envs/mypythonenv1/lib/python3.6/site-packages/xmitgcm-0.2.2-py3.6.egg/xmitgcm/mds_store.py:807: UserWarning: Couldn't find available_diagnostics.log in /central/groups/oceanphysics/anirban/ASTE_runs/astedata/. Using default version.\n",
      "  \"in %s. Using default version.\" % data_dir)\n",
      "/central/groups/oceanphysics/anirban/miniconda/envs/mypythonenv1/lib/python3.6/site-packages/xmitgcm-0.2.2-py3.6.egg/xmitgcm/mds_store.py:807: UserWarning: Couldn't find available_diagnostics.log in /central/groups/oceanphysics/anirban/ASTE_runs/astedata/. Using default version.\n",
      "  \"in %s. Using default version.\" % data_dir)\n",
      "/central/groups/oceanphysics/anirban/miniconda/envs/mypythonenv1/lib/python3.6/site-packages/xmitgcm-0.2.2-py3.6.egg/xmitgcm/mds_store.py:807: UserWarning: Couldn't find available_diagnostics.log in /central/groups/oceanphysics/anirban/ASTE_runs/astedata/. Using default version.\n",
      "  \"in %s. Using default version.\" % data_dir)\n",
      "/central/groups/oceanphysics/anirban/miniconda/envs/mypythonenv1/lib/python3.6/site-packages/xmitgcm-0.2.2-py3.6.egg/xmitgcm/mds_store.py:807: UserWarning: Couldn't find available_diagnostics.log in /central/groups/oceanphysics/anirban/ASTE_runs/astedata/. Using default version.\n",
      "  \"in %s. Using default version.\" % data_dir)\n",
      "/central/groups/oceanphysics/anirban/miniconda/envs/mypythonenv1/lib/python3.6/site-packages/xmitgcm-0.2.2-py3.6.egg/xmitgcm/mds_store.py:807: UserWarning: Couldn't find available_diagnostics.log in /central/groups/oceanphysics/anirban/ASTE_runs/astedata/. Using default version.\n",
      "  \"in %s. Using default version.\" % data_dir)\n",
      "/central/groups/oceanphysics/anirban/miniconda/envs/mypythonenv1/lib/python3.6/site-packages/xmitgcm-0.2.2-py3.6.egg/xmitgcm/mds_store.py:807: UserWarning: Couldn't find available_diagnostics.log in /central/groups/oceanphysics/anirban/ASTE_runs/astedata/. Using default version.\n",
      "  \"in %s. Using default version.\" % data_dir)\n",
      "/central/groups/oceanphysics/anirban/miniconda/envs/mypythonenv1/lib/python3.6/site-packages/xmitgcm-0.2.2-py3.6.egg/xmitgcm/mds_store.py:807: UserWarning: Couldn't find available_diagnostics.log in /central/groups/oceanphysics/anirban/ASTE_runs/astedata/. Using default version.\n",
      "  \"in %s. Using default version.\" % data_dir)\n",
      "/central/groups/oceanphysics/anirban/miniconda/envs/mypythonenv1/lib/python3.6/site-packages/xmitgcm-0.2.2-py3.6.egg/xmitgcm/mds_store.py:807: UserWarning: Couldn't find available_diagnostics.log in /central/groups/oceanphysics/anirban/ASTE_runs/astedata/. Using default version.\n",
      "  \"in %s. Using default version.\" % data_dir)\n",
      "/central/groups/oceanphysics/anirban/miniconda/envs/mypythonenv1/lib/python3.6/site-packages/xmitgcm-0.2.2-py3.6.egg/xmitgcm/mds_store.py:807: UserWarning: Couldn't find available_diagnostics.log in /central/groups/oceanphysics/anirban/ASTE_runs/astedata/. Using default version.\n",
      "  \"in %s. Using default version.\" % data_dir)\n",
      "/central/groups/oceanphysics/anirban/miniconda/envs/mypythonenv1/lib/python3.6/site-packages/xmitgcm-0.2.2-py3.6.egg/xmitgcm/mds_store.py:807: UserWarning: Couldn't find available_diagnostics.log in /central/groups/oceanphysics/anirban/ASTE_runs/astedata/. Using default version.\n",
      "  \"in %s. Using default version.\" % data_dir)\n",
      "/central/groups/oceanphysics/anirban/miniconda/envs/mypythonenv1/lib/python3.6/site-packages/xmitgcm-0.2.2-py3.6.egg/xmitgcm/mds_store.py:807: UserWarning: Couldn't find available_diagnostics.log in /central/groups/oceanphysics/anirban/ASTE_runs/astedata/. Using default version.\n",
      "  \"in %s. Using default version.\" % data_dir)\n",
      "/central/groups/oceanphysics/anirban/miniconda/envs/mypythonenv1/lib/python3.6/site-packages/xmitgcm-0.2.2-py3.6.egg/xmitgcm/mds_store.py:807: UserWarning: Couldn't find available_diagnostics.log in /central/groups/oceanphysics/anirban/ASTE_runs/astedata/. Using default version.\n",
      "  \"in %s. Using default version.\" % data_dir)\n",
      "/central/groups/oceanphysics/anirban/miniconda/envs/mypythonenv1/lib/python3.6/site-packages/xmitgcm-0.2.2-py3.6.egg/xmitgcm/mds_store.py:807: UserWarning: Couldn't find available_diagnostics.log in /central/groups/oceanphysics/anirban/ASTE_runs/astedata/. Using default version.\n",
      "  \"in %s. Using default version.\" % data_dir)\n",
      "/central/groups/oceanphysics/anirban/miniconda/envs/mypythonenv1/lib/python3.6/site-packages/xmitgcm-0.2.2-py3.6.egg/xmitgcm/mds_store.py:807: UserWarning: Couldn't find available_diagnostics.log in /central/groups/oceanphysics/anirban/ASTE_runs/astedata/. Using default version.\n",
      "  \"in %s. Using default version.\" % data_dir)\n",
      "/central/groups/oceanphysics/anirban/miniconda/envs/mypythonenv1/lib/python3.6/site-packages/xmitgcm-0.2.2-py3.6.egg/xmitgcm/mds_store.py:807: UserWarning: Couldn't find available_diagnostics.log in /central/groups/oceanphysics/anirban/ASTE_runs/astedata/. Using default version.\n",
      "  \"in %s. Using default version.\" % data_dir)\n",
      "/central/groups/oceanphysics/anirban/miniconda/envs/mypythonenv1/lib/python3.6/site-packages/xmitgcm-0.2.2-py3.6.egg/xmitgcm/mds_store.py:807: UserWarning: Couldn't find available_diagnostics.log in /central/groups/oceanphysics/anirban/ASTE_runs/astedata/. Using default version.\n",
      "  \"in %s. Using default version.\" % data_dir)\n",
      "/central/groups/oceanphysics/anirban/miniconda/envs/mypythonenv1/lib/python3.6/site-packages/xmitgcm-0.2.2-py3.6.egg/xmitgcm/mds_store.py:807: UserWarning: Couldn't find available_diagnostics.log in /central/groups/oceanphysics/anirban/ASTE_runs/astedata/. Using default version.\n",
      "  \"in %s. Using default version.\" % data_dir)\n",
      "/central/groups/oceanphysics/anirban/miniconda/envs/mypythonenv1/lib/python3.6/site-packages/xmitgcm-0.2.2-py3.6.egg/xmitgcm/mds_store.py:807: UserWarning: Couldn't find available_diagnostics.log in /central/groups/oceanphysics/anirban/ASTE_runs/astedata/. Using default version.\n",
      "  \"in %s. Using default version.\" % data_dir)\n",
      "/central/groups/oceanphysics/anirban/miniconda/envs/mypythonenv1/lib/python3.6/site-packages/xmitgcm-0.2.2-py3.6.egg/xmitgcm/mds_store.py:807: UserWarning: Couldn't find available_diagnostics.log in /central/groups/oceanphysics/anirban/ASTE_runs/astedata/. Using default version.\n",
      "  \"in %s. Using default version.\" % data_dir)\n",
      "/central/groups/oceanphysics/anirban/miniconda/envs/mypythonenv1/lib/python3.6/site-packages/xmitgcm-0.2.2-py3.6.egg/xmitgcm/mds_store.py:807: UserWarning: Couldn't find available_diagnostics.log in /central/groups/oceanphysics/anirban/ASTE_runs/astedata/. Using default version.\n",
      "  \"in %s. Using default version.\" % data_dir)\n",
      "/central/groups/oceanphysics/anirban/miniconda/envs/mypythonenv1/lib/python3.6/site-packages/xmitgcm-0.2.2-py3.6.egg/xmitgcm/mds_store.py:807: UserWarning: Couldn't find available_diagnostics.log in /central/groups/oceanphysics/anirban/ASTE_runs/astedata/. Using default version.\n",
      "  \"in %s. Using default version.\" % data_dir)\n",
      "/central/groups/oceanphysics/anirban/miniconda/envs/mypythonenv1/lib/python3.6/site-packages/xmitgcm-0.2.2-py3.6.egg/xmitgcm/mds_store.py:807: UserWarning: Couldn't find available_diagnostics.log in /central/groups/oceanphysics/anirban/ASTE_runs/astedata/. Using default version.\n",
      "  \"in %s. Using default version.\" % data_dir)\n",
      "/central/groups/oceanphysics/anirban/miniconda/envs/mypythonenv1/lib/python3.6/site-packages/xmitgcm-0.2.2-py3.6.egg/xmitgcm/mds_store.py:807: UserWarning: Couldn't find available_diagnostics.log in /central/groups/oceanphysics/anirban/ASTE_runs/astedata/. Using default version.\n",
      "  \"in %s. Using default version.\" % data_dir)\n",
      "/central/groups/oceanphysics/anirban/miniconda/envs/mypythonenv1/lib/python3.6/site-packages/xmitgcm-0.2.2-py3.6.egg/xmitgcm/mds_store.py:807: UserWarning: Couldn't find available_diagnostics.log in /central/groups/oceanphysics/anirban/ASTE_runs/astedata/. Using default version.\n",
      "  \"in %s. Using default version.\" % data_dir)\n",
      "/central/groups/oceanphysics/anirban/miniconda/envs/mypythonenv1/lib/python3.6/site-packages/xmitgcm-0.2.2-py3.6.egg/xmitgcm/mds_store.py:807: UserWarning: Couldn't find available_diagnostics.log in /central/groups/oceanphysics/anirban/ASTE_runs/astedata/. Using default version.\n",
      "  \"in %s. Using default version.\" % data_dir)\n",
      "/central/groups/oceanphysics/anirban/miniconda/envs/mypythonenv1/lib/python3.6/site-packages/xmitgcm-0.2.2-py3.6.egg/xmitgcm/mds_store.py:807: UserWarning: Couldn't find available_diagnostics.log in /central/groups/oceanphysics/anirban/ASTE_runs/astedata/. Using default version.\n",
      "  \"in %s. Using default version.\" % data_dir)\n"
     ]
    },
    {
     "name": "stderr",
     "output_type": "stream",
     "text": [
      "/central/groups/oceanphysics/anirban/miniconda/envs/mypythonenv1/lib/python3.6/site-packages/xmitgcm-0.2.2-py3.6.egg/xmitgcm/mds_store.py:807: UserWarning: Couldn't find available_diagnostics.log in /central/groups/oceanphysics/anirban/ASTE_runs/astedata/. Using default version.\n",
      "  \"in %s. Using default version.\" % data_dir)\n",
      "/central/groups/oceanphysics/anirban/miniconda/envs/mypythonenv1/lib/python3.6/site-packages/xmitgcm-0.2.2-py3.6.egg/xmitgcm/mds_store.py:807: UserWarning: Couldn't find available_diagnostics.log in /central/groups/oceanphysics/anirban/ASTE_runs/astedata/. Using default version.\n",
      "  \"in %s. Using default version.\" % data_dir)\n",
      "/central/groups/oceanphysics/anirban/miniconda/envs/mypythonenv1/lib/python3.6/site-packages/xmitgcm-0.2.2-py3.6.egg/xmitgcm/mds_store.py:807: UserWarning: Couldn't find available_diagnostics.log in /central/groups/oceanphysics/anirban/ASTE_runs/astedata/. Using default version.\n",
      "  \"in %s. Using default version.\" % data_dir)\n",
      "/central/groups/oceanphysics/anirban/miniconda/envs/mypythonenv1/lib/python3.6/site-packages/xmitgcm-0.2.2-py3.6.egg/xmitgcm/mds_store.py:807: UserWarning: Couldn't find available_diagnostics.log in /central/groups/oceanphysics/anirban/ASTE_runs/astedata/. Using default version.\n",
      "  \"in %s. Using default version.\" % data_dir)\n",
      "/central/groups/oceanphysics/anirban/miniconda/envs/mypythonenv1/lib/python3.6/site-packages/xmitgcm-0.2.2-py3.6.egg/xmitgcm/mds_store.py:807: UserWarning: Couldn't find available_diagnostics.log in /central/groups/oceanphysics/anirban/ASTE_runs/astedata/. Using default version.\n",
      "  \"in %s. Using default version.\" % data_dir)\n",
      "/central/groups/oceanphysics/anirban/miniconda/envs/mypythonenv1/lib/python3.6/site-packages/xmitgcm-0.2.2-py3.6.egg/xmitgcm/mds_store.py:807: UserWarning: Couldn't find available_diagnostics.log in /central/groups/oceanphysics/anirban/ASTE_runs/astedata/. Using default version.\n",
      "  \"in %s. Using default version.\" % data_dir)\n",
      "/central/groups/oceanphysics/anirban/miniconda/envs/mypythonenv1/lib/python3.6/site-packages/xmitgcm-0.2.2-py3.6.egg/xmitgcm/mds_store.py:807: UserWarning: Couldn't find available_diagnostics.log in /central/groups/oceanphysics/anirban/ASTE_runs/astedata/. Using default version.\n",
      "  \"in %s. Using default version.\" % data_dir)\n",
      "/central/groups/oceanphysics/anirban/miniconda/envs/mypythonenv1/lib/python3.6/site-packages/xmitgcm-0.2.2-py3.6.egg/xmitgcm/mds_store.py:807: UserWarning: Couldn't find available_diagnostics.log in /central/groups/oceanphysics/anirban/ASTE_runs/astedata/. Using default version.\n",
      "  \"in %s. Using default version.\" % data_dir)\n",
      "/central/groups/oceanphysics/anirban/miniconda/envs/mypythonenv1/lib/python3.6/site-packages/xmitgcm-0.2.2-py3.6.egg/xmitgcm/mds_store.py:807: UserWarning: Couldn't find available_diagnostics.log in /central/groups/oceanphysics/anirban/ASTE_runs/astedata/. Using default version.\n",
      "  \"in %s. Using default version.\" % data_dir)\n",
      "/central/groups/oceanphysics/anirban/miniconda/envs/mypythonenv1/lib/python3.6/site-packages/xmitgcm-0.2.2-py3.6.egg/xmitgcm/mds_store.py:807: UserWarning: Couldn't find available_diagnostics.log in /central/groups/oceanphysics/anirban/ASTE_runs/astedata/. Using default version.\n",
      "  \"in %s. Using default version.\" % data_dir)\n",
      "/central/groups/oceanphysics/anirban/miniconda/envs/mypythonenv1/lib/python3.6/site-packages/xmitgcm-0.2.2-py3.6.egg/xmitgcm/mds_store.py:807: UserWarning: Couldn't find available_diagnostics.log in /central/groups/oceanphysics/anirban/ASTE_runs/astedata/. Using default version.\n",
      "  \"in %s. Using default version.\" % data_dir)\n",
      "/central/groups/oceanphysics/anirban/miniconda/envs/mypythonenv1/lib/python3.6/site-packages/xmitgcm-0.2.2-py3.6.egg/xmitgcm/mds_store.py:807: UserWarning: Couldn't find available_diagnostics.log in /central/groups/oceanphysics/anirban/ASTE_runs/astedata/. Using default version.\n",
      "  \"in %s. Using default version.\" % data_dir)\n",
      "/central/groups/oceanphysics/anirban/miniconda/envs/mypythonenv1/lib/python3.6/site-packages/xmitgcm-0.2.2-py3.6.egg/xmitgcm/mds_store.py:807: UserWarning: Couldn't find available_diagnostics.log in /central/groups/oceanphysics/anirban/ASTE_runs/astedata/. Using default version.\n",
      "  \"in %s. Using default version.\" % data_dir)\n",
      "/central/groups/oceanphysics/anirban/miniconda/envs/mypythonenv1/lib/python3.6/site-packages/xmitgcm-0.2.2-py3.6.egg/xmitgcm/mds_store.py:807: UserWarning: Couldn't find available_diagnostics.log in /central/groups/oceanphysics/anirban/ASTE_runs/astedata/. Using default version.\n",
      "  \"in %s. Using default version.\" % data_dir)\n",
      "/central/groups/oceanphysics/anirban/miniconda/envs/mypythonenv1/lib/python3.6/site-packages/xmitgcm-0.2.2-py3.6.egg/xmitgcm/mds_store.py:807: UserWarning: Couldn't find available_diagnostics.log in /central/groups/oceanphysics/anirban/ASTE_runs/astedata/. Using default version.\n",
      "  \"in %s. Using default version.\" % data_dir)\n",
      "/central/groups/oceanphysics/anirban/miniconda/envs/mypythonenv1/lib/python3.6/site-packages/xmitgcm-0.2.2-py3.6.egg/xmitgcm/mds_store.py:807: UserWarning: Couldn't find available_diagnostics.log in /central/groups/oceanphysics/anirban/ASTE_runs/astedata/. Using default version.\n",
      "  \"in %s. Using default version.\" % data_dir)\n",
      "/central/groups/oceanphysics/anirban/miniconda/envs/mypythonenv1/lib/python3.6/site-packages/xmitgcm-0.2.2-py3.6.egg/xmitgcm/mds_store.py:807: UserWarning: Couldn't find available_diagnostics.log in /central/groups/oceanphysics/anirban/ASTE_runs/astedata/. Using default version.\n",
      "  \"in %s. Using default version.\" % data_dir)\n",
      "/central/groups/oceanphysics/anirban/miniconda/envs/mypythonenv1/lib/python3.6/site-packages/xmitgcm-0.2.2-py3.6.egg/xmitgcm/mds_store.py:807: UserWarning: Couldn't find available_diagnostics.log in /central/groups/oceanphysics/anirban/ASTE_runs/astedata/. Using default version.\n",
      "  \"in %s. Using default version.\" % data_dir)\n",
      "/central/groups/oceanphysics/anirban/miniconda/envs/mypythonenv1/lib/python3.6/site-packages/xmitgcm-0.2.2-py3.6.egg/xmitgcm/mds_store.py:807: UserWarning: Couldn't find available_diagnostics.log in /central/groups/oceanphysics/anirban/ASTE_runs/astedata/. Using default version.\n",
      "  \"in %s. Using default version.\" % data_dir)\n",
      "/central/groups/oceanphysics/anirban/miniconda/envs/mypythonenv1/lib/python3.6/site-packages/xmitgcm-0.2.2-py3.6.egg/xmitgcm/mds_store.py:807: UserWarning: Couldn't find available_diagnostics.log in /central/groups/oceanphysics/anirban/ASTE_runs/astedata/. Using default version.\n",
      "  \"in %s. Using default version.\" % data_dir)\n",
      "/central/groups/oceanphysics/anirban/miniconda/envs/mypythonenv1/lib/python3.6/site-packages/xmitgcm-0.2.2-py3.6.egg/xmitgcm/mds_store.py:807: UserWarning: Couldn't find available_diagnostics.log in /central/groups/oceanphysics/anirban/ASTE_runs/astedata/. Using default version.\n",
      "  \"in %s. Using default version.\" % data_dir)\n",
      "/central/groups/oceanphysics/anirban/miniconda/envs/mypythonenv1/lib/python3.6/site-packages/xmitgcm-0.2.2-py3.6.egg/xmitgcm/mds_store.py:807: UserWarning: Couldn't find available_diagnostics.log in /central/groups/oceanphysics/anirban/ASTE_runs/astedata/. Using default version.\n",
      "  \"in %s. Using default version.\" % data_dir)\n",
      "/central/groups/oceanphysics/anirban/miniconda/envs/mypythonenv1/lib/python3.6/site-packages/xmitgcm-0.2.2-py3.6.egg/xmitgcm/mds_store.py:807: UserWarning: Couldn't find available_diagnostics.log in /central/groups/oceanphysics/anirban/ASTE_runs/astedata/. Using default version.\n",
      "  \"in %s. Using default version.\" % data_dir)\n",
      "/central/groups/oceanphysics/anirban/miniconda/envs/mypythonenv1/lib/python3.6/site-packages/xmitgcm-0.2.2-py3.6.egg/xmitgcm/mds_store.py:807: UserWarning: Couldn't find available_diagnostics.log in /central/groups/oceanphysics/anirban/ASTE_runs/astedata/. Using default version.\n",
      "  \"in %s. Using default version.\" % data_dir)\n",
      "/central/groups/oceanphysics/anirban/miniconda/envs/mypythonenv1/lib/python3.6/site-packages/xmitgcm-0.2.2-py3.6.egg/xmitgcm/mds_store.py:807: UserWarning: Couldn't find available_diagnostics.log in /central/groups/oceanphysics/anirban/ASTE_runs/astedata/. Using default version.\n",
      "  \"in %s. Using default version.\" % data_dir)\n",
      "/central/groups/oceanphysics/anirban/miniconda/envs/mypythonenv1/lib/python3.6/site-packages/xmitgcm-0.2.2-py3.6.egg/xmitgcm/mds_store.py:807: UserWarning: Couldn't find available_diagnostics.log in /central/groups/oceanphysics/anirban/ASTE_runs/astedata/. Using default version.\n",
      "  \"in %s. Using default version.\" % data_dir)\n",
      "/central/groups/oceanphysics/anirban/miniconda/envs/mypythonenv1/lib/python3.6/site-packages/xmitgcm-0.2.2-py3.6.egg/xmitgcm/mds_store.py:807: UserWarning: Couldn't find available_diagnostics.log in /central/groups/oceanphysics/anirban/ASTE_runs/astedata/. Using default version.\n",
      "  \"in %s. Using default version.\" % data_dir)\n",
      "/central/groups/oceanphysics/anirban/miniconda/envs/mypythonenv1/lib/python3.6/site-packages/xmitgcm-0.2.2-py3.6.egg/xmitgcm/mds_store.py:807: UserWarning: Couldn't find available_diagnostics.log in /central/groups/oceanphysics/anirban/ASTE_runs/astedata/. Using default version.\n",
      "  \"in %s. Using default version.\" % data_dir)\n",
      "/central/groups/oceanphysics/anirban/miniconda/envs/mypythonenv1/lib/python3.6/site-packages/xmitgcm-0.2.2-py3.6.egg/xmitgcm/mds_store.py:807: UserWarning: Couldn't find available_diagnostics.log in /central/groups/oceanphysics/anirban/ASTE_runs/astedata/. Using default version.\n",
      "  \"in %s. Using default version.\" % data_dir)\n",
      "/central/groups/oceanphysics/anirban/miniconda/envs/mypythonenv1/lib/python3.6/site-packages/xmitgcm-0.2.2-py3.6.egg/xmitgcm/mds_store.py:807: UserWarning: Couldn't find available_diagnostics.log in /central/groups/oceanphysics/anirban/ASTE_runs/astedata/. Using default version.\n",
      "  \"in %s. Using default version.\" % data_dir)\n",
      "/central/groups/oceanphysics/anirban/miniconda/envs/mypythonenv1/lib/python3.6/site-packages/xmitgcm-0.2.2-py3.6.egg/xmitgcm/mds_store.py:807: UserWarning: Couldn't find available_diagnostics.log in /central/groups/oceanphysics/anirban/ASTE_runs/astedata/. Using default version.\n",
      "  \"in %s. Using default version.\" % data_dir)\n",
      "/central/groups/oceanphysics/anirban/miniconda/envs/mypythonenv1/lib/python3.6/site-packages/xmitgcm-0.2.2-py3.6.egg/xmitgcm/mds_store.py:807: UserWarning: Couldn't find available_diagnostics.log in /central/groups/oceanphysics/anirban/ASTE_runs/astedata/. Using default version.\n",
      "  \"in %s. Using default version.\" % data_dir)\n",
      "/central/groups/oceanphysics/anirban/miniconda/envs/mypythonenv1/lib/python3.6/site-packages/xmitgcm-0.2.2-py3.6.egg/xmitgcm/mds_store.py:807: UserWarning: Couldn't find available_diagnostics.log in /central/groups/oceanphysics/anirban/ASTE_runs/astedata/. Using default version.\n",
      "  \"in %s. Using default version.\" % data_dir)\n",
      "/central/groups/oceanphysics/anirban/miniconda/envs/mypythonenv1/lib/python3.6/site-packages/xmitgcm-0.2.2-py3.6.egg/xmitgcm/mds_store.py:807: UserWarning: Couldn't find available_diagnostics.log in /central/groups/oceanphysics/anirban/ASTE_runs/astedata/. Using default version.\n",
      "  \"in %s. Using default version.\" % data_dir)\n"
     ]
    },
    {
     "name": "stderr",
     "output_type": "stream",
     "text": [
      "/central/groups/oceanphysics/anirban/miniconda/envs/mypythonenv1/lib/python3.6/site-packages/xmitgcm-0.2.2-py3.6.egg/xmitgcm/mds_store.py:807: UserWarning: Couldn't find available_diagnostics.log in /central/groups/oceanphysics/anirban/ASTE_runs/astedata/. Using default version.\n",
      "  \"in %s. Using default version.\" % data_dir)\n",
      "/central/groups/oceanphysics/anirban/miniconda/envs/mypythonenv1/lib/python3.6/site-packages/xmitgcm-0.2.2-py3.6.egg/xmitgcm/mds_store.py:807: UserWarning: Couldn't find available_diagnostics.log in /central/groups/oceanphysics/anirban/ASTE_runs/astedata/. Using default version.\n",
      "  \"in %s. Using default version.\" % data_dir)\n",
      "/central/groups/oceanphysics/anirban/miniconda/envs/mypythonenv1/lib/python3.6/site-packages/xmitgcm-0.2.2-py3.6.egg/xmitgcm/mds_store.py:807: UserWarning: Couldn't find available_diagnostics.log in /central/groups/oceanphysics/anirban/ASTE_runs/astedata/. Using default version.\n",
      "  \"in %s. Using default version.\" % data_dir)\n",
      "/central/groups/oceanphysics/anirban/miniconda/envs/mypythonenv1/lib/python3.6/site-packages/xmitgcm-0.2.2-py3.6.egg/xmitgcm/mds_store.py:807: UserWarning: Couldn't find available_diagnostics.log in /central/groups/oceanphysics/anirban/ASTE_runs/astedata/. Using default version.\n",
      "  \"in %s. Using default version.\" % data_dir)\n",
      "/central/groups/oceanphysics/anirban/miniconda/envs/mypythonenv1/lib/python3.6/site-packages/xmitgcm-0.2.2-py3.6.egg/xmitgcm/mds_store.py:807: UserWarning: Couldn't find available_diagnostics.log in /central/groups/oceanphysics/anirban/ASTE_runs/astedata/. Using default version.\n",
      "  \"in %s. Using default version.\" % data_dir)\n",
      "/central/groups/oceanphysics/anirban/miniconda/envs/mypythonenv1/lib/python3.6/site-packages/xmitgcm-0.2.2-py3.6.egg/xmitgcm/mds_store.py:807: UserWarning: Couldn't find available_diagnostics.log in /central/groups/oceanphysics/anirban/ASTE_runs/astedata/. Using default version.\n",
      "  \"in %s. Using default version.\" % data_dir)\n",
      "/central/groups/oceanphysics/anirban/miniconda/envs/mypythonenv1/lib/python3.6/site-packages/xmitgcm-0.2.2-py3.6.egg/xmitgcm/mds_store.py:807: UserWarning: Couldn't find available_diagnostics.log in /central/groups/oceanphysics/anirban/ASTE_runs/astedata/. Using default version.\n",
      "  \"in %s. Using default version.\" % data_dir)\n",
      "/central/groups/oceanphysics/anirban/miniconda/envs/mypythonenv1/lib/python3.6/site-packages/xmitgcm-0.2.2-py3.6.egg/xmitgcm/mds_store.py:807: UserWarning: Couldn't find available_diagnostics.log in /central/groups/oceanphysics/anirban/ASTE_runs/astedata/. Using default version.\n",
      "  \"in %s. Using default version.\" % data_dir)\n",
      "/central/groups/oceanphysics/anirban/miniconda/envs/mypythonenv1/lib/python3.6/site-packages/xmitgcm-0.2.2-py3.6.egg/xmitgcm/mds_store.py:807: UserWarning: Couldn't find available_diagnostics.log in /central/groups/oceanphysics/anirban/ASTE_runs/astedata/. Using default version.\n",
      "  \"in %s. Using default version.\" % data_dir)\n",
      "/central/groups/oceanphysics/anirban/miniconda/envs/mypythonenv1/lib/python3.6/site-packages/xmitgcm-0.2.2-py3.6.egg/xmitgcm/mds_store.py:807: UserWarning: Couldn't find available_diagnostics.log in /central/groups/oceanphysics/anirban/ASTE_runs/astedata/. Using default version.\n",
      "  \"in %s. Using default version.\" % data_dir)\n",
      "/central/groups/oceanphysics/anirban/miniconda/envs/mypythonenv1/lib/python3.6/site-packages/xmitgcm-0.2.2-py3.6.egg/xmitgcm/mds_store.py:807: UserWarning: Couldn't find available_diagnostics.log in /central/groups/oceanphysics/anirban/ASTE_runs/astedata/. Using default version.\n",
      "  \"in %s. Using default version.\" % data_dir)\n",
      "/central/groups/oceanphysics/anirban/miniconda/envs/mypythonenv1/lib/python3.6/site-packages/xmitgcm-0.2.2-py3.6.egg/xmitgcm/mds_store.py:807: UserWarning: Couldn't find available_diagnostics.log in /central/groups/oceanphysics/anirban/ASTE_runs/astedata/. Using default version.\n",
      "  \"in %s. Using default version.\" % data_dir)\n",
      "/central/groups/oceanphysics/anirban/miniconda/envs/mypythonenv1/lib/python3.6/site-packages/xmitgcm-0.2.2-py3.6.egg/xmitgcm/mds_store.py:807: UserWarning: Couldn't find available_diagnostics.log in /central/groups/oceanphysics/anirban/ASTE_runs/astedata/. Using default version.\n",
      "  \"in %s. Using default version.\" % data_dir)\n",
      "/central/groups/oceanphysics/anirban/miniconda/envs/mypythonenv1/lib/python3.6/site-packages/xmitgcm-0.2.2-py3.6.egg/xmitgcm/mds_store.py:807: UserWarning: Couldn't find available_diagnostics.log in /central/groups/oceanphysics/anirban/ASTE_runs/astedata/. Using default version.\n",
      "  \"in %s. Using default version.\" % data_dir)\n",
      "/central/groups/oceanphysics/anirban/miniconda/envs/mypythonenv1/lib/python3.6/site-packages/xmitgcm-0.2.2-py3.6.egg/xmitgcm/mds_store.py:807: UserWarning: Couldn't find available_diagnostics.log in /central/groups/oceanphysics/anirban/ASTE_runs/astedata/. Using default version.\n",
      "  \"in %s. Using default version.\" % data_dir)\n",
      "/central/groups/oceanphysics/anirban/miniconda/envs/mypythonenv1/lib/python3.6/site-packages/xmitgcm-0.2.2-py3.6.egg/xmitgcm/mds_store.py:807: UserWarning: Couldn't find available_diagnostics.log in /central/groups/oceanphysics/anirban/ASTE_runs/astedata/. Using default version.\n",
      "  \"in %s. Using default version.\" % data_dir)\n",
      "/central/groups/oceanphysics/anirban/miniconda/envs/mypythonenv1/lib/python3.6/site-packages/xmitgcm-0.2.2-py3.6.egg/xmitgcm/mds_store.py:807: UserWarning: Couldn't find available_diagnostics.log in /central/groups/oceanphysics/anirban/ASTE_runs/astedata/. Using default version.\n",
      "  \"in %s. Using default version.\" % data_dir)\n",
      "/central/groups/oceanphysics/anirban/miniconda/envs/mypythonenv1/lib/python3.6/site-packages/xmitgcm-0.2.2-py3.6.egg/xmitgcm/mds_store.py:807: UserWarning: Couldn't find available_diagnostics.log in /central/groups/oceanphysics/anirban/ASTE_runs/astedata/. Using default version.\n",
      "  \"in %s. Using default version.\" % data_dir)\n",
      "/central/groups/oceanphysics/anirban/miniconda/envs/mypythonenv1/lib/python3.6/site-packages/xmitgcm-0.2.2-py3.6.egg/xmitgcm/mds_store.py:807: UserWarning: Couldn't find available_diagnostics.log in /central/groups/oceanphysics/anirban/ASTE_runs/astedata/. Using default version.\n",
      "  \"in %s. Using default version.\" % data_dir)\n",
      "/central/groups/oceanphysics/anirban/miniconda/envs/mypythonenv1/lib/python3.6/site-packages/xmitgcm-0.2.2-py3.6.egg/xmitgcm/mds_store.py:807: UserWarning: Couldn't find available_diagnostics.log in /central/groups/oceanphysics/anirban/ASTE_runs/astedata/. Using default version.\n",
      "  \"in %s. Using default version.\" % data_dir)\n",
      "/central/groups/oceanphysics/anirban/miniconda/envs/mypythonenv1/lib/python3.6/site-packages/xmitgcm-0.2.2-py3.6.egg/xmitgcm/mds_store.py:807: UserWarning: Couldn't find available_diagnostics.log in /central/groups/oceanphysics/anirban/ASTE_runs/astedata/. Using default version.\n",
      "  \"in %s. Using default version.\" % data_dir)\n",
      "/central/groups/oceanphysics/anirban/miniconda/envs/mypythonenv1/lib/python3.6/site-packages/xmitgcm-0.2.2-py3.6.egg/xmitgcm/mds_store.py:807: UserWarning: Couldn't find available_diagnostics.log in /central/groups/oceanphysics/anirban/ASTE_runs/astedata/. Using default version.\n",
      "  \"in %s. Using default version.\" % data_dir)\n",
      "/central/groups/oceanphysics/anirban/miniconda/envs/mypythonenv1/lib/python3.6/site-packages/xmitgcm-0.2.2-py3.6.egg/xmitgcm/mds_store.py:807: UserWarning: Couldn't find available_diagnostics.log in /central/groups/oceanphysics/anirban/ASTE_runs/astedata/. Using default version.\n",
      "  \"in %s. Using default version.\" % data_dir)\n",
      "/central/groups/oceanphysics/anirban/miniconda/envs/mypythonenv1/lib/python3.6/site-packages/xmitgcm-0.2.2-py3.6.egg/xmitgcm/mds_store.py:807: UserWarning: Couldn't find available_diagnostics.log in /central/groups/oceanphysics/anirban/ASTE_runs/astedata/. Using default version.\n",
      "  \"in %s. Using default version.\" % data_dir)\n",
      "/central/groups/oceanphysics/anirban/miniconda/envs/mypythonenv1/lib/python3.6/site-packages/xmitgcm-0.2.2-py3.6.egg/xmitgcm/mds_store.py:807: UserWarning: Couldn't find available_diagnostics.log in /central/groups/oceanphysics/anirban/ASTE_runs/astedata/. Using default version.\n",
      "  \"in %s. Using default version.\" % data_dir)\n",
      "/central/groups/oceanphysics/anirban/miniconda/envs/mypythonenv1/lib/python3.6/site-packages/xmitgcm-0.2.2-py3.6.egg/xmitgcm/mds_store.py:807: UserWarning: Couldn't find available_diagnostics.log in /central/groups/oceanphysics/anirban/ASTE_runs/astedata/. Using default version.\n",
      "  \"in %s. Using default version.\" % data_dir)\n",
      "/central/groups/oceanphysics/anirban/miniconda/envs/mypythonenv1/lib/python3.6/site-packages/xmitgcm-0.2.2-py3.6.egg/xmitgcm/mds_store.py:807: UserWarning: Couldn't find available_diagnostics.log in /central/groups/oceanphysics/anirban/ASTE_runs/astedata/. Using default version.\n",
      "  \"in %s. Using default version.\" % data_dir)\n",
      "/central/groups/oceanphysics/anirban/miniconda/envs/mypythonenv1/lib/python3.6/site-packages/xmitgcm-0.2.2-py3.6.egg/xmitgcm/mds_store.py:807: UserWarning: Couldn't find available_diagnostics.log in /central/groups/oceanphysics/anirban/ASTE_runs/astedata/. Using default version.\n",
      "  \"in %s. Using default version.\" % data_dir)\n",
      "/central/groups/oceanphysics/anirban/miniconda/envs/mypythonenv1/lib/python3.6/site-packages/xmitgcm-0.2.2-py3.6.egg/xmitgcm/mds_store.py:807: UserWarning: Couldn't find available_diagnostics.log in /central/groups/oceanphysics/anirban/ASTE_runs/astedata/. Using default version.\n",
      "  \"in %s. Using default version.\" % data_dir)\n",
      "/central/groups/oceanphysics/anirban/miniconda/envs/mypythonenv1/lib/python3.6/site-packages/xmitgcm-0.2.2-py3.6.egg/xmitgcm/mds_store.py:807: UserWarning: Couldn't find available_diagnostics.log in /central/groups/oceanphysics/anirban/ASTE_runs/astedata/. Using default version.\n",
      "  \"in %s. Using default version.\" % data_dir)\n",
      "/central/groups/oceanphysics/anirban/miniconda/envs/mypythonenv1/lib/python3.6/site-packages/xmitgcm-0.2.2-py3.6.egg/xmitgcm/mds_store.py:807: UserWarning: Couldn't find available_diagnostics.log in /central/groups/oceanphysics/anirban/ASTE_runs/astedata/. Using default version.\n",
      "  \"in %s. Using default version.\" % data_dir)\n",
      "/central/groups/oceanphysics/anirban/miniconda/envs/mypythonenv1/lib/python3.6/site-packages/xmitgcm-0.2.2-py3.6.egg/xmitgcm/mds_store.py:807: UserWarning: Couldn't find available_diagnostics.log in /central/groups/oceanphysics/anirban/ASTE_runs/astedata/. Using default version.\n",
      "  \"in %s. Using default version.\" % data_dir)\n"
     ]
    },
    {
     "name": "stderr",
     "output_type": "stream",
     "text": [
      "/central/groups/oceanphysics/anirban/miniconda/envs/mypythonenv1/lib/python3.6/site-packages/xmitgcm-0.2.2-py3.6.egg/xmitgcm/mds_store.py:807: UserWarning: Couldn't find available_diagnostics.log in /central/groups/oceanphysics/anirban/ASTE_runs/astedata/. Using default version.\n",
      "  \"in %s. Using default version.\" % data_dir)\n",
      "/central/groups/oceanphysics/anirban/miniconda/envs/mypythonenv1/lib/python3.6/site-packages/xmitgcm-0.2.2-py3.6.egg/xmitgcm/mds_store.py:807: UserWarning: Couldn't find available_diagnostics.log in /central/groups/oceanphysics/anirban/ASTE_runs/astedata/. Using default version.\n",
      "  \"in %s. Using default version.\" % data_dir)\n",
      "/central/groups/oceanphysics/anirban/miniconda/envs/mypythonenv1/lib/python3.6/site-packages/xmitgcm-0.2.2-py3.6.egg/xmitgcm/mds_store.py:807: UserWarning: Couldn't find available_diagnostics.log in /central/groups/oceanphysics/anirban/ASTE_runs/astedata/. Using default version.\n",
      "  \"in %s. Using default version.\" % data_dir)\n",
      "/central/groups/oceanphysics/anirban/miniconda/envs/mypythonenv1/lib/python3.6/site-packages/xmitgcm-0.2.2-py3.6.egg/xmitgcm/mds_store.py:807: UserWarning: Couldn't find available_diagnostics.log in /central/groups/oceanphysics/anirban/ASTE_runs/astedata/. Using default version.\n",
      "  \"in %s. Using default version.\" % data_dir)\n",
      "/central/groups/oceanphysics/anirban/miniconda/envs/mypythonenv1/lib/python3.6/site-packages/xmitgcm-0.2.2-py3.6.egg/xmitgcm/mds_store.py:807: UserWarning: Couldn't find available_diagnostics.log in /central/groups/oceanphysics/anirban/ASTE_runs/astedata/. Using default version.\n",
      "  \"in %s. Using default version.\" % data_dir)\n",
      "/central/groups/oceanphysics/anirban/miniconda/envs/mypythonenv1/lib/python3.6/site-packages/xmitgcm-0.2.2-py3.6.egg/xmitgcm/mds_store.py:807: UserWarning: Couldn't find available_diagnostics.log in /central/groups/oceanphysics/anirban/ASTE_runs/astedata/. Using default version.\n",
      "  \"in %s. Using default version.\" % data_dir)\n",
      "/central/groups/oceanphysics/anirban/miniconda/envs/mypythonenv1/lib/python3.6/site-packages/xmitgcm-0.2.2-py3.6.egg/xmitgcm/mds_store.py:807: UserWarning: Couldn't find available_diagnostics.log in /central/groups/oceanphysics/anirban/ASTE_runs/astedata/. Using default version.\n",
      "  \"in %s. Using default version.\" % data_dir)\n"
     ]
    }
   ],
   "source": [
    "dir_aste='/central/groups/oceanphysics/anirban/ASTE_runs/astedata/'\n",
    "astemd = xmitgcm.utils.get_extra_metadata(domain='aste', nx=270)\n",
    "md = xmitgcm.utils.get_extra_metadata(domain='aste', nx=270)\n",
    "ds_aste = xmitgcm.open_mdsdataset(dir_aste,iters='all',read_grid=True,\n",
    "                                  geometry='llc', nx=270, extra_metadata=md,\n",
    "                                  delta_t=1200, ref_date='2001-12-1 0:0:0')"
   ]
  },
  {
   "cell_type": "code",
   "execution_count": 6,
   "metadata": {},
   "outputs": [],
   "source": [
    "ds_sel = ds_aste.sel(time=slice('2008','2009'))"
   ]
  },
  {
   "cell_type": "code",
   "execution_count": 7,
   "metadata": {},
   "outputs": [],
   "source": [
    "dir_llc270 = '/central/groups/oceanphysics/anirban/llc270_2008_2009'\n",
    "ds_llc270 =  xmitgcm.open_mdsdataset(dir_llc270,iters='all',geometry='llc',default_dtype='>f4',\n",
    "                                    delta_t=1200, ref_date='1992-1-1 0:0:0').chunk({'time': 1})"
   ]
  },
  {
   "cell_type": "code",
   "execution_count": 8,
   "metadata": {},
   "outputs": [],
   "source": [
    "XCfull = np.zeros((270,540))\n",
    "XCfull[:,0:270] = np.rot90(ds_llc270.XC.sel(face=10).values)\n",
    "XCfull[:,270:540] = ds_llc270.XC.sel(face=2).values\n",
    "\n",
    "YCfull = np.zeros((270,540))\n",
    "YCfull[:,0:270] = np.rot90(ds_llc270.YC.sel(face=10).values)\n",
    "YCfull[:,270:540] = ds_llc270.YC.sel(face=2).values\n",
    "\n",
    "XGfull = np.zeros((270,540))\n",
    "XGfull[:,0:270] = np.rot90(ds_llc270.XG.sel(face=10).values)\n",
    "XGfull[:,270:540] = ds_llc270.XG.sel(face=2).values\n",
    "\n",
    "YGfull = np.zeros((270,540))\n",
    "YGfull[:,0:270] = np.rot90(ds_llc270.YG.sel(face=10).values)\n",
    "YGfull[:,270:540] = ds_llc270.YG.sel(face=2).values\n"
   ]
  },
  {
   "cell_type": "code",
   "execution_count": 9,
   "metadata": {},
   "outputs": [
    {
     "name": "stderr",
     "output_type": "stream",
     "text": [
      "/central/groups/oceanphysics/anirban/miniconda/envs/mypythonenv1/lib/python3.6/site-packages/xmitgcm-0.2.2-py3.6.egg/xmitgcm/mds_store.py:807: UserWarning: Couldn't find available_diagnostics.log in /central/groups/oceanphysics/anirban/ll181502/grid_ll1815. Using default version.\n",
      "  \"in %s. Using default version.\" % data_dir)\n"
     ]
    },
    {
     "data": {
      "text/plain": [
       "<xarray.Dataset>\n",
       "Dimensions:  (XC: 1815, XG: 1815, YC: 532, YG: 532, Z: 100, Zl: 100, Zp1: 101, Zu: 100)\n",
       "Coordinates:\n",
       "  * XC       (XC) >f4 -81.5625 -81.520836 -81.47917 ... -6.020836 -5.9791694\n",
       "  * YC       (YC) >f4 26.87238 26.906544 26.9407 ... 43.428173 43.456318\n",
       "  * XG       (XG) >f4 -81.583336 -81.54167 -81.5 ... -6.0416694 -6.0000024\n",
       "  * YG       (YG) >f4 26.855293 26.889463 26.923624 ... 43.414097 43.44225\n",
       "  * Z        (Z) >f4 -2.5 -7.5 -12.5 -17.5 ... -5568.185 -5790.69 -6018.94\n",
       "  * Zp1      (Zp1) >f4 0.0 -5.0 -10.0 -15.0 ... -5678.0 -5903.38 -6134.5\n",
       "  * Zu       (Zu) >f4 -5.0 -10.0 -15.0 -20.0 ... -5678.0 -5903.38 -6134.5\n",
       "  * Zl       (Zl) >f4 0.0 -5.0 -10.0 -15.0 ... -5244.5 -5458.37 -5678.0 -5903.38\n",
       "    rA       (YC, XC) >f4 dask.array<shape=(532, 1815), chunksize=(532, 1815)>\n",
       "    dxG      (YG, XC) >f4 dask.array<shape=(532, 1815), chunksize=(532, 1815)>\n",
       "    dyG      (YC, XG) >f4 dask.array<shape=(532, 1815), chunksize=(532, 1815)>\n",
       "    Depth    (YC, XC) >f4 dask.array<shape=(532, 1815), chunksize=(532, 1815)>\n",
       "    rAz      (YG, XG) >f4 dask.array<shape=(532, 1815), chunksize=(532, 1815)>\n",
       "    dxC      (YC, XG) >f4 dask.array<shape=(532, 1815), chunksize=(532, 1815)>\n",
       "    dyC      (YG, XC) >f4 dask.array<shape=(532, 1815), chunksize=(532, 1815)>\n",
       "    rAw      (YC, XG) >f4 dask.array<shape=(532, 1815), chunksize=(532, 1815)>\n",
       "    rAs      (YG, XC) >f4 dask.array<shape=(532, 1815), chunksize=(532, 1815)>\n",
       "    drC      (Zp1) >f4 2.5 5.0 5.0 5.0 5.0 ... 216.75 222.505 228.25 115.56\n",
       "    drF      (Z) >f4 5.0 5.0 5.0 5.0 5.0 ... 208.12 213.87 219.63 225.38 231.12\n",
       "    PHrefC   (Z) >f4 24.525 73.575 122.625 ... 54623.895 56806.668 59045.8\n",
       "    PHrefF   (Zp1) >f4 0.0 49.05 98.1 147.15 ... 55701.18 57912.156 60179.445\n",
       "    hFacC    (Z, YC, XC) >f4 dask.array<shape=(100, 532, 1815), chunksize=(100, 532, 1815)>\n",
       "    hFacW    (Z, YC, XG) >f4 dask.array<shape=(100, 532, 1815), chunksize=(100, 532, 1815)>\n",
       "    hFacS    (Z, YG, XC) >f4 dask.array<shape=(100, 532, 1815), chunksize=(100, 532, 1815)>\n",
       "    maskInC  (YC, XC) >f4 dask.array<shape=(532, 1815), chunksize=(532, 1815)>\n",
       "    maskInS  (YG, XC) >f4 dask.array<shape=(532, 1815), chunksize=(532, 1815)>\n",
       "    maskInW  (YC, XG) >f4 dask.array<shape=(532, 1815), chunksize=(532, 1815)>\n",
       "Data variables:\n",
       "    *empty*\n",
       "Attributes:\n",
       "    Conventions:  CF-1.6\n",
       "    title:        netCDF wrapper of MITgcm MDS binary data\n",
       "    source:       MITgcm\n",
       "    history:      Created by calling `open_mdsdataset(extra_metadata=None, ll..."
      ]
     },
     "execution_count": 9,
     "metadata": {},
     "output_type": "execute_result"
    }
   ],
   "source": [
    "ds1 = xmitgcm.open_mdsdataset('/central/groups/oceanphysics/anirban/ll181502/grid_ll1815',iters=None,default_dtype='>f4')\n",
    "ds1"
   ]
  },
  {
   "cell_type": "code",
   "execution_count": 10,
   "metadata": {},
   "outputs": [
    {
     "data": {
      "text/plain": [
       "<xarray.Dataset>\n",
       "Dimensions:  (XC: 910, XG: 910, YC: 266, YG: 266, Z: 100, Zl: 100, Zp1: 101, Zu: 100)\n",
       "Coordinates:\n",
       "  * XC       (XC) >f4 -81.54167 -81.458336 -81.375 ... -5.8750024 -5.7916694\n",
       "  * YC       (YC) >f4 26.889458 26.95777 27.02604 ... 43.38593 43.44224\n",
       "  * XG       (XG) >f4 -81.583336 -81.5 -81.41667 ... -5.9166694 -5.833336\n",
       "  * YG       (YG) >f4 26.855293 26.923624 26.991915 ... 43.35776 43.414097\n",
       "  * Z        (Z) >f4 -2.5 -7.5 -12.5 -17.5 ... -5568.185 -5790.69 -6018.94\n",
       "  * Zp1      (Zp1) >f4 0.0 -5.0 -10.0 -15.0 ... -5678.0 -5903.38 -6134.5\n",
       "  * Zu       (Zu) >f4 -5.0 -10.0 -15.0 -20.0 ... -5678.0 -5903.38 -6134.5\n",
       "  * Zl       (Zl) >f4 0.0 -5.0 -10.0 -15.0 ... -5244.5 -5458.37 -5678.0 -5903.38\n",
       "    rA       (YC, XC) >f4 dask.array<shape=(266, 910), chunksize=(266, 910)>\n",
       "    dxG      (YG, XC) >f4 dask.array<shape=(266, 910), chunksize=(266, 910)>\n",
       "    dyG      (YC, XG) >f4 dask.array<shape=(266, 910), chunksize=(266, 910)>\n",
       "    Depth    (YC, XC) >f4 dask.array<shape=(266, 910), chunksize=(266, 910)>\n",
       "    rAz      (YG, XG) >f4 dask.array<shape=(266, 910), chunksize=(266, 910)>\n",
       "    dxC      (YC, XG) >f4 dask.array<shape=(266, 910), chunksize=(266, 910)>\n",
       "    dyC      (YG, XC) >f4 dask.array<shape=(266, 910), chunksize=(266, 910)>\n",
       "    rAw      (YC, XG) >f4 dask.array<shape=(266, 910), chunksize=(266, 910)>\n",
       "    rAs      (YG, XC) >f4 dask.array<shape=(266, 910), chunksize=(266, 910)>\n",
       "    drC      (Zp1) >f4 2.5 5.0 5.0 5.0 5.0 ... 216.75 222.505 228.25 115.56\n",
       "    drF      (Z) >f4 5.0 5.0 5.0 5.0 5.0 ... 208.12 213.87 219.63 225.38 231.12\n",
       "    PHrefC   (Z) >f4 24.525 73.575 122.625 ... 54623.895 56806.668 59045.8\n",
       "    PHrefF   (Zp1) >f4 0.0 49.05 98.1 147.15 ... 55701.18 57912.156 60179.445\n",
       "    hFacC    (Z, YC, XC) >f4 dask.array<shape=(100, 266, 910), chunksize=(100, 266, 910)>\n",
       "    hFacW    (Z, YC, XG) >f4 dask.array<shape=(100, 266, 910), chunksize=(100, 266, 910)>\n",
       "    hFacS    (Z, YG, XC) >f4 dask.array<shape=(100, 266, 910), chunksize=(100, 266, 910)>\n",
       "    maskInC  (YC, XC) >f4 dask.array<shape=(266, 910), chunksize=(266, 910)>\n",
       "    maskInS  (YG, XC) >f4 dask.array<shape=(266, 910), chunksize=(266, 910)>\n",
       "    maskInW  (YC, XG) >f4 dask.array<shape=(266, 910), chunksize=(266, 910)>\n",
       "Data variables:\n",
       "    *empty*\n",
       "Attributes:\n",
       "    Conventions:  CF-1.6\n",
       "    title:        netCDF wrapper of MITgcm MDS binary data\n",
       "    source:       MITgcm\n",
       "    history:      Created by calling `open_mdsdataset(extra_metadata=None, ll..."
      ]
     },
     "execution_count": 10,
     "metadata": {},
     "output_type": "execute_result"
    }
   ],
   "source": [
    "ds0 = xmitgcm.open_mdsdataset('/central/groups/oceanphysics/anirban/NA/experiments/run_old/run_ll910_test_tides',iters=None,default_dtype='>f4')\n",
    "ds0"
   ]
  },
  {
   "cell_type": "code",
   "execution_count": null,
   "metadata": {},
   "outputs": [],
   "source": [
    "ds0.Depth.plot(cmap=cmocean.cm.deep)"
   ]
  },
  {
   "cell_type": "code",
   "execution_count": null,
   "metadata": {},
   "outputs": [],
   "source": [
    "ds0.Depth.sel(XC=slice(-20,-5)).plot()"
   ]
  },
  {
   "cell_type": "code",
   "execution_count": null,
   "metadata": {},
   "outputs": [],
   "source": [
    "ds1.isel(XC=-3).Depth.plot()"
   ]
  },
  {
   "cell_type": "code",
   "execution_count": null,
   "metadata": {},
   "outputs": [],
   "source": [
    "ds0.isel(XC=-4).Depth.plot()"
   ]
  },
  {
   "cell_type": "code",
   "execution_count": null,
   "metadata": {},
   "outputs": [],
   "source": [
    "ds1.isel(YC=-2).Depth.plot()"
   ]
  },
  {
   "cell_type": "code",
   "execution_count": null,
   "metadata": {},
   "outputs": [],
   "source": [
    "ds0.isel(YC=-2).Depth.plot()"
   ]
  },
  {
   "cell_type": "code",
   "execution_count": 11,
   "metadata": {},
   "outputs": [
    {
     "data": {
      "text/plain": [
       "((75, 231), (75, 231), (75, 231), (75, 231))"
      ]
     },
     "execution_count": 11,
     "metadata": {},
     "output_type": "execute_result"
    }
   ],
   "source": [
    "idy = (np.where((YGfull[:,-2]>=25.) & (YGfull[:,-2]<44))[0])\n",
    "#idy = (np.where((YGfull[:,-2]>=15.) & (YGfull[:,-2]<44))[0])\n",
    "YGsmall=YGfull[idy,:]\n",
    "YCsmall=YCfull[idy,:]\n",
    "idx = (np.where((XGfull[2,:]>=-82.) & (XGfull[2,:]<-5))[0])\n",
    "#idx = (np.where((XGfull[2,:]>=-100.) & (XGfull[2,:]<-5))[0])\n",
    "XGsmall=XGfull[:,idx]\n",
    "XCsmall=XCfull[:,idx]\n",
    "XC = XCsmall[idy]\n",
    "YC = YCsmall[:,idx]\n",
    "XG = XGsmall[idy]\n",
    "YG = YGsmall[:,idx]\n",
    "XC.shape, YC.shape, XG.shape, YG.shape\n"
   ]
  },
  {
   "cell_type": "code",
   "execution_count": 12,
   "metadata": {},
   "outputs": [],
   "source": [
    "Saltfull = np.zeros((24,50,270,540))\n",
    "Saltfull[:,:,:,0:270] =  np.rot90(ds_sel.where(ds_sel.hFacC).SALT.sel(face=4).values, 1, (2,3))\n",
    "Saltfull[:,:,:,270:540] =  ds_sel.where(ds_sel.hFacC).SALT.sel(face=1).values\n",
    "Salt = Saltfull[:,:,idy][:,:,:,idx]\n",
    "\n",
    "Thetafull = np.ma.zeros((24,50,270,540))\n",
    "Thetafull[:,:,:,0:270] =  np.rot90(ds_sel.where(ds_sel.hFacC).THETA.sel(face=4).values, 1, (2,3))\n",
    "Thetafull[:,:,:,270:540] =  ds_sel.where(ds_sel.hFacC).THETA.sel(face=1).values\n",
    "Theta = Thetafull[:,:,idy][:,:,:,idx]\n",
    "\n",
    "Ufull = np.zeros((24,50,270,540))\n",
    "#Ufull[:,:,0:270] =  np.rot90(ds_sel.where(ds_sel.hFacW).isel(time=0).UVELMASS.sel(face=10).values, 1, (1,2))\n",
    "Ufull[:,:,:,0:270] =  np.rot90(ds_sel.where(ds_sel.hFacS).VVELMASS.sel(face=4).values, 1, (2,3))\n",
    "Ufull[:,:,:,270:540] =  ds_sel.where(ds_sel.hFacW).UVELMASS.sel(face=1).values\n",
    "U = Ufull[:,:,idy][:,:,:,idx]\n",
    "\n",
    "Vfull = np.zeros((24,50,270,540))\n",
    "#Vfull[:,:,0:270] =  np.rot90(ds_sel.where(ds_sel.hFacS).isel(time=0).VVELMASS.sel(face=10).values, 1, (1,2))\n",
    "Vfull[:,:,:,0:270] =  np.rot90(ds_sel.where(ds_sel.hFacW).UVELMASS.sel(face=4).values*-1, 1, (2,3))\n",
    "Vfull[:,:,:,270:540] =  ds_sel.where(ds_sel.hFacS).VVELMASS.sel(face=1).values\n",
    "V = Vfull[:,:,idy][:,:,:,idx]\n",
    "\n",
    "depthfull = np.zeros((270,540))\n",
    "depthfull[:,0:270] = np.rot90(ds_sel.Depth.sel(face=4).values)\n",
    "depthfull[:,270:540] = ds_sel.Depth.sel(face=1).values\n",
    "depth = depthfull[idy,:][:,idx]"
   ]
  },
  {
   "cell_type": "code",
   "execution_count": 13,
   "metadata": {},
   "outputs": [],
   "source": [
    "hFacCfull = np.zeros((50,270,540))\n",
    "hFacCfull[:,:,0:270] =  np.rot90(ds_sel.hFacC.sel(face=4).values, 1, (1,2))\n",
    "hFacCfull[:,:,270:540] =  ds_sel.hFacC.sel(face=1).values\n",
    "hFacC = hFacCfull[:,idy][:,:,idx]\n",
    "\n",
    "hFacSfull = np.zeros((50,270,540))\n",
    "hFacSfull[:,:,0:270] =  np.rot90(ds_sel.hFacS.sel(face=4).values, 1, (1,2))\n",
    "hFacSfull[:,:,270:540] =  ds_sel.hFacS.sel(face=1).values\n",
    "hFacS = hFacSfull[:,idy][:,:,idx]\n",
    "\n",
    "hFacWfull = np.zeros((50,270,540))\n",
    "hFacWfull[:,:,0:270] =  np.rot90(ds_sel.hFacW.sel(face=4).values, 1, (1,2))\n",
    "hFacWfull[:,:,270:540] =  ds_sel.hFacW.sel(face=1).values\n",
    "hFacW = hFacWfull[:,idy][:,:,idx]\n",
    "\n"
   ]
  },
  {
   "cell_type": "code",
   "execution_count": 14,
   "metadata": {},
   "outputs": [],
   "source": [
    "dxcfull = np.zeros((270,540))\n",
    "dxcfull[:,0:270] = np.rot90(ds_llc270.dyC.sel(face=10).values)\n",
    "dxcfull[:,270:540] = ds_llc270.dxC.sel(face=2).values\n",
    "dxc = dxcfull[idy,:][:,idx]\n",
    "\n",
    "dxgfull = np.zeros((270,540))\n",
    "dxgfull[:,0:270] = np.rot90(ds_llc270.dyG.sel(face=10).values)\n",
    "dxgfull[:,270:540] = ds_llc270.dxG.sel(face=2).values\n",
    "dxg = dxgfull[idy,:][:,idx]\n",
    "\n",
    "dycfull = np.zeros((270,540))\n",
    "dycfull[:,0:270] = np.rot90(ds_llc270.dxC.sel(face=10).values)\n",
    "dycfull[:,270:540] = ds_llc270.dyC.sel(face=2).values\n",
    "dyc = dycfull[idy,:][:,idx]\n",
    "\n",
    "dygfull = np.zeros((270,540))\n",
    "dygfull[:,0:270] = np.rot90(ds_llc270.dxG.sel(face=10).values)\n",
    "dygfull[:,270:540] = ds_llc270.dyG.sel(face=2).values\n",
    "dyg = dygfull[idy,:][:,idx]"
   ]
  },
  {
   "cell_type": "code",
   "execution_count": 15,
   "metadata": {},
   "outputs": [],
   "source": [
    "xc_fine = ds0.XC.values\n",
    "yc_fine = ds0.YC.values\n",
    "xg_fine = ds0.XG.values\n",
    "yg_fine = ds0.YG.values\n",
    "\n",
    "z_fine = ds0.Z.values\n",
    "\n",
    "xc = XC[10]\n",
    "yc = YC[:,10]\n",
    "\n",
    "xg = XG[10]\n",
    "yg = YG[:,10]\n",
    "\n",
    "\n",
    "z = ds_llc270.Z.values"
   ]
  },
  {
   "cell_type": "code",
   "execution_count": 16,
   "metadata": {},
   "outputs": [],
   "source": [
    "def fill_land(dataarray, x,y):\n",
    "    xx,yy = np.meshgrid(x,y)\n",
    "    assert xx.shape == dataarray.shape\n",
    "    assert yy.shape == dataarray.shape\n",
    "    data = dataarray.ravel()[~np.isnan(dataarray.ravel())]\n",
    "    xpts = xx.ravel()[~np.isnan(dataarray.ravel())]\n",
    "    ypts = yy.ravel()[~np.isnan(dataarray.ravel())]\n",
    "    \n",
    "    \n",
    "    data_filled = griddata((xpts, ypts), data, (xx,yy), method='nearest',rescale=True)\n",
    "    return data_filled"
   ]
  },
  {
   "cell_type": "code",
   "execution_count": 17,
   "metadata": {},
   "outputs": [
    {
     "name": "stdout",
     "output_type": "stream",
     "text": [
      "CPU times: user 1min 49s, sys: 412 ms, total: 1min 49s\n",
      "Wall time: 1min 50s\n"
     ]
    }
   ],
   "source": [
    "%%time\n",
    "\n",
    "Salt_noland = np.zeros_like(Salt)\n",
    "Theta_noland = np.zeros_like(Salt)\n",
    "U_noland = np.zeros_like(Salt)\n",
    "V_noland = np.zeros_like(Salt)\n",
    "\n",
    "for i in range(Salt.shape[0]):\n",
    "    for j in range(Salt.shape[1]):\n",
    "        \n",
    "        Salt_noland[i,j] = fill_land(Salt[i,j],xc,yc)\n",
    "        Theta_noland[i,j] = fill_land(Theta[i,j],xc,yc)\n",
    "        U_noland[i,j] = fill_land(U[i,j],xg,yc)\n",
    "        V_noland[i,j] = fill_land(V[i,j],xc,yg)\n",
    "    "
   ]
  },
  {
   "cell_type": "code",
   "execution_count": 18,
   "metadata": {},
   "outputs": [],
   "source": [
    "Salt_wet = np.zeros_like(Salt_noland[:12])\n",
    "Theta_wet = np.zeros_like(Salt_noland[:12])\n",
    "U_wet = np.zeros_like(Salt_noland[:12])\n",
    "V_wet = np.zeros_like(Salt_noland[:12])\n",
    "\n",
    "\n",
    "Salt_wet[:6] = Salt_noland[12:18]\n",
    "Salt_wet[6:12] = Salt_noland[6:12]\n",
    "\n",
    "Theta_wet[:6] = Theta_noland[12:18]\n",
    "Theta_wet[6:12] = Theta_noland[6:12]\n",
    "\n",
    "U_wet[:6] = U_noland[12:18]\n",
    "U_wet[6:12] = U_noland[6:12]\n",
    "\n",
    "V_wet[:6] = V_noland[12:18]\n",
    "V_wet[6:12] = V_noland[6:12]\n"
   ]
  },
  {
   "cell_type": "code",
   "execution_count": 19,
   "metadata": {},
   "outputs": [],
   "source": [
    "Salt_fake = Salt[:12]\n",
    "Theta_fake = Theta[:12]\n",
    "U_fake = U[:12]\n",
    "V_fake = V[:12]\n",
    "Salt_fake[:6] = Salt[12:18]\n",
    "Theta_fake[:6] = Theta[12:18]\n",
    "U_fake[:6] = U[12:18]\n",
    "V_fake[:6] = V[12:18]\n"
   ]
  },
  {
   "cell_type": "code",
   "execution_count": 20,
   "metadata": {},
   "outputs": [
    {
     "name": "stdout",
     "output_type": "stream",
     "text": [
      "CPU times: user 9.6 s, sys: 788 ms, total: 10.4 s\n",
      "Wall time: 15.9 s\n"
     ]
    }
   ],
   "source": [
    "%%time\n",
    "Salt_noland_fh = np.zeros((Salt_wet.shape[0],z.shape[0],ds0.Depth.shape[0],ds0.Depth.shape[1]))\n",
    "Theta_noland_fh = np.zeros((Salt_wet.shape[0],z.shape[0],ds0.Depth.shape[0], ds0.Depth.shape[1]))\n",
    "U_noland_fh = np.zeros((Salt_wet.shape[0],z.shape[0],ds0.Depth.shape[0], ds0.Depth.shape[1]))\n",
    "V_noland_fh = np.zeros((Salt_wet.shape[0],z.shape[0],ds0.Depth.shape[0], ds0.Depth.shape[1]))\n",
    "\n",
    "for i in range(Salt_wet.shape[0]):\n",
    "    for j in range(Salt_wet.shape[1]):\n",
    " \n",
    "        fSh = interp2d(xc,yc, Salt_wet[i,j], kind='linear')\n",
    "        fTh = interp2d(xc,yc, Theta_wet[i,j], kind='linear')\n",
    "        fUh = interp2d(xg,yc, U_wet[i,j], kind='linear')\n",
    "        fVh = interp2d(xc,yg, V_wet[i,j], kind='linear')\n",
    "    \n",
    "        Salt_noland_fh[i,j] = fSh(xc_fine, yc_fine)\n",
    "        Theta_noland_fh[i,j] = fTh(xc_fine, yc_fine)\n",
    "        U_noland_fh[i,j] = fUh(xg_fine, yc_fine)\n",
    "        V_noland_fh[i,j] = fVh(xc_fine, yg_fine)\n",
    "    "
   ]
  },
  {
   "cell_type": "code",
   "execution_count": 21,
   "metadata": {},
   "outputs": [
    {
     "name": "stdout",
     "output_type": "stream",
     "text": [
      "CPU times: user 34.4 s, sys: 7.77 s, total: 42.2 s\n",
      "Wall time: 44.4 s\n"
     ]
    }
   ],
   "source": [
    "%%time\n",
    "Salt_noland_f = np.zeros((Salt_noland_fh.shape[0],z_fine.shape[0],ds0.Depth.shape[0], ds0.Depth.shape[1]))\n",
    "Theta_noland_f = np.zeros((Salt_noland_fh.shape[0],z_fine.shape[0],ds0.Depth.shape[0], ds0.Depth.shape[1]))\n",
    "U_noland_f = np.zeros((Salt_noland_fh.shape[0],z_fine.shape[0],ds0.Depth.shape[0], ds0.Depth.shape[1]))\n",
    "V_noland_f = np.zeros((Salt_noland_fh.shape[0],z_fine.shape[0],ds0.Depth.shape[0], ds0.Depth.shape[1]))\n",
    "\n",
    "\n",
    "for i in range(Salt_noland_fh.shape[0]):\n",
    "    for j in range(Salt_noland_fh.shape[2]):\n",
    "\n",
    "        fS = interp2d(xc_fine,z, Salt_noland_fh[i,:,j], kind='linear')\n",
    "        Salt_noland_f[i,:,j] = np.flipud(fS(xc_fine, z_fine))\n",
    "    \n",
    "        fT = interp2d(xc_fine,z, Theta_noland_fh[i,:,j], kind='linear')\n",
    "        Theta_noland_f[i,:,j] = np.flipud(fT(xc_fine, z_fine))\n",
    "    \n",
    "        fU = interp2d(xg_fine,z, U_noland_fh[i,:,j], kind='linear')\n",
    "        U_noland_f[i,:,j] = np.flipud(fU(xg_fine, z_fine))\n",
    "    \n",
    "        fV = interp2d(xc_fine,z, V_noland_fh[i,:,j], kind='linear')\n",
    "        V_noland_f[i,:,j] = np.flipud(fV(xc_fine, z_fine))\n",
    "    \n",
    "    "
   ]
  },
  {
   "cell_type": "code",
   "execution_count": 22,
   "metadata": {},
   "outputs": [
    {
     "data": {
      "text/plain": [
       "array(['2008-01-01T00:00:00.000000000', '2008-01-30T00:00:00.000000000',\n",
       "       '2008-03-01T00:00:00.000000000', '2008-03-31T00:00:00.000000000',\n",
       "       '2008-05-01T00:00:00.000000000', '2008-05-31T00:00:00.000000000',\n",
       "       '2008-07-01T00:00:00.000000000', '2008-08-01T00:00:00.000000000',\n",
       "       '2008-08-31T00:00:00.000000000', '2008-10-01T00:00:00.000000000',\n",
       "       '2008-10-31T00:00:00.000000000', '2008-12-01T00:00:00.000000000'],\n",
       "      dtype='datetime64[ns]')"
      ]
     },
     "execution_count": 22,
     "metadata": {},
     "output_type": "execute_result"
    }
   ],
   "source": [
    "times = ds_sel.time.values[0:12]\n",
    "times"
   ]
  },
  {
   "cell_type": "code",
   "execution_count": 23,
   "metadata": {},
   "outputs": [
    {
     "data": {
      "text/plain": [
       "<xarray.Dataset>\n",
       "Dimensions:  (XC: 910, XG: 910, YC: 266, YG: 266, Z: 100, time: 12)\n",
       "Coordinates:\n",
       "  * time     (time) datetime64[ns] 2008-01-01 2008-01-30 ... 2008-12-01\n",
       "  * Z        (Z) >f4 -2.5 -7.5 -12.5 -17.5 ... -5568.185 -5790.69 -6018.94\n",
       "  * YC       (YC) >f4 26.889458 26.95777 27.02604 ... 43.38593 43.44224\n",
       "  * XC       (XC) >f4 -81.54167 -81.458336 -81.375 ... -5.8750024 -5.7916694\n",
       "  * XG       (XG) >f4 -81.583336 -81.5 -81.41667 ... -5.9166694 -5.833336\n",
       "  * YG       (YG) >f4 26.855293 26.923624 26.991915 ... 43.35776 43.414097\n",
       "Data variables:\n",
       "    Salt_l   (time, Z, YC, XC) float64 36.58 36.58 36.58 ... 34.87 34.87 34.87\n",
       "    Theta_l  (time, Z, YC, XC) float64 22.25 22.25 22.25 ... 1.652 1.652 1.652\n",
       "    U_l      (time, Z, YC, XG) float64 -0.05453 -0.05453 ... 0.001594 0.001594\n",
       "    V_l      (time, Z, YG, XC) float64 0.4334 0.4334 ... -0.0006324 -0.0006324"
      ]
     },
     "execution_count": 23,
     "metadata": {},
     "output_type": "execute_result"
    }
   ],
   "source": [
    "salt_noland_f = xr.DataArray(Salt_noland_f, \n",
    "                             coords={'time':times,\n",
    "                                     'Z': z_fine,\n",
    "                                     'YC': yc_fine, \n",
    "                                     'XC': xc_fine},\n",
    "                             dims=['time','Z','YC','XC'])\n",
    "theta_noland_f = xr.DataArray(Theta_noland_f, \n",
    "                              coords={'time':times,\n",
    "                                     'Z': z_fine,\n",
    "                                     'YC': yc_fine, \n",
    "                                     'XC': xc_fine},\n",
    "                             dims=['time','Z','YC','XC'])\n",
    "u_noland_f = xr.DataArray(U_noland_f, \n",
    "                          coords={'time':times,\n",
    "                                  'Z': z_fine,\n",
    "                                  'YC': yc_fine, \n",
    "                                  'XG': xg_fine}, \n",
    "                          dims=['time','Z','YC','XG'])\n",
    "v_noland_f = xr.DataArray(V_noland_f, \n",
    "                          coords={'time':times,\n",
    "                                  'Z': z_fine,\n",
    "                                  'YG': yg_fine, \n",
    "                                  'XC': xc_fine}, \n",
    "                          dims=['time','Z','YG','XC'])\n",
    "# salt_noland_f_n = xr.DataArray(Salt_noland_f_n, \n",
    "#                              coords={'time':times,\n",
    "#                                      'Z': z_fine,\n",
    "#                                      'YC': yc_fine, \n",
    "#                                      'XC': xc_fine},\n",
    "#                              dims=['time','Z','YC','XC'])\n",
    "# theta_noland_f_n = xr.DataArray(Theta_noland_f_n, \n",
    "#                               coords={'time':times,\n",
    "#                                      'Z': z_fine,\n",
    "#                                      'YC': yc_fine, \n",
    "#                                      'XC': xc_fine},\n",
    "#                              dims=['time','Z','YC','XC'])\n",
    "# u_noland_f_n = xr.DataArray(U_noland_f_n, \n",
    "#                           coords={'time':times,\n",
    "#                                   'Z': z_fine,\n",
    "#                                   'YC': yc_fine, \n",
    "#                                   'XG': xg_fine}, \n",
    "#                           dims=['time','Z','YC','XG'])\n",
    "# v_noland_f_n = xr.DataArray(V_noland_f_n, \n",
    "#                           coords={'time':times,\n",
    "#                                   'Z': z_fine,\n",
    "#                                   'YG': yg_fine, \n",
    "#                                   'XC': xc_fine}, \n",
    "#                           dims=['time','Z','YG','XC'])\n",
    "\n",
    "ds_f = xr.Dataset({'Salt_l': salt_noland_f,\n",
    "                   'Theta_l': theta_noland_f,\n",
    "                   'U_l': u_noland_f,\n",
    "                   'V_l': v_noland_f,\n",
    "#                    'Salt_n_l': salt_noland_f_n,\n",
    "#                    'Theta_n_l': theta_noland_f_n,\n",
    "#                    'U_n_l': u_noland_f_n,\n",
    "#                    'V_n_l': v_noland_f_n\n",
    "                  })\n",
    "ds_f"
   ]
  },
  {
   "cell_type": "code",
   "execution_count": 24,
   "metadata": {},
   "outputs": [
    {
     "data": {
      "text/plain": [
       "<xarray.Dataset>\n",
       "Dimensions:  (XC: 231, XG: 231, YC: 75, YG: 75, Z: 50, time: 12)\n",
       "Coordinates:\n",
       "  * time     (time) datetime64[ns] 2008-01-01 2008-01-30 ... 2008-12-01\n",
       "  * Z        (Z) >f4 -5.0 -15.0 -25.0 -35.0 ... -5039.25 -5461.25 -5906.25\n",
       "  * YC       (YC) float64 25.41 25.69 25.96 26.24 ... 43.3 43.53 43.75 43.97\n",
       "  * XC       (XC) float64 -81.83 -81.5 -81.17 -80.83 ... -5.833 -5.5 -5.167\n",
       "  * XG       (XG) float64 -82.0 -81.67 -81.33 -81.0 ... -6.0 -5.667 -5.333\n",
       "  * YG       (YG) float64 25.55 25.83 26.1 26.38 ... 43.41 43.64 43.86 44.09\n",
       "    hFacC    (Z, YC, XC) float64 1.0 0.0 0.0 0.0 0.0 1.0 ... 0.0 0.0 0.0 0.0 0.0\n",
       "    hFacW    (Z, YC, XG) float64 1.0 0.0 0.0 0.0 0.0 1.0 ... 0.0 0.0 0.0 0.0 0.0\n",
       "    hFacS    (Z, YG, XC) float64 1.0 0.0 0.0 0.0 0.0 0.0 ... 0.0 0.0 0.0 0.0 0.0\n",
       "    dxC      (YC, XG) float64 3.347e+04 3.347e+04 ... 2.667e+04 2.667e+04\n",
       "    dxG      (YG, XC) float64 3.344e+04 3.344e+04 ... 2.672e+04 2.672e+04\n",
       "    dyC      (YG, XC) float64 3.074e+04 3.074e+04 ... 2.487e+04 2.487e+04\n",
       "    dyG      (YC, XG) float64 3.077e+04 3.077e+04 ... 2.483e+04 2.483e+04\n",
       "    dZ       (Z) >f8 10.0 10.0 10.0 10.0 10.0 ... 364.5 387.5 410.5 433.5 456.5\n",
       "Data variables:\n",
       "    salt     (time, Z, YC, XC) float64 38.74 nan nan nan nan ... nan nan nan nan\n",
       "    theta    (time, Z, YC, XC) float64 21.56 nan nan nan nan ... nan nan nan nan\n",
       "    U        (time, Z, YC, XG) float64 0.01089 nan nan nan ... nan nan nan nan\n",
       "    V        (time, Z, YG, XC) float64 -0.01116 nan nan nan ... nan nan nan nan\n",
       "    salt_l   (time, Z, YC, XC) float64 38.74 38.74 38.74 ... 34.87 34.87 34.87\n",
       "    theta_l  (time, Z, YC, XC) float64 21.56 21.56 21.56 ... 1.652 1.652 1.652\n",
       "    U_l      (time, Z, YC, XG) float64 0.01089 0.01089 ... 0.001594 0.001594\n",
       "    V_l      (time, Z, YG, XC) float64 -0.01116 -0.01116 ... -0.0006324\n",
       "    depth    (YC, XC) float64 -20.0 -0.0 -0.0 ... -1.049e+03 -1.02e+03 -798.7"
      ]
     },
     "execution_count": 24,
     "metadata": {},
     "output_type": "execute_result"
    }
   ],
   "source": [
    "salt = xr.DataArray(Salt_fake, coords={'time':times,'Z': z,'YC': yc, 'XC': xc},\n",
    "             dims=['time','Z','YC','XC'])\n",
    "theta = xr.DataArray(Theta_fake, coords={'time':times,'Z': z,'YC': yc, 'XC': xc},\n",
    "             dims=['time','Z','YC','XC'])\n",
    "u = xr.DataArray(U_fake, coords={'time':times,'Z': z,'YC': yc, 'XG': xg},\n",
    "             dims=['time','Z','YC','XG'])\n",
    "v = xr.DataArray(V_fake, coords={'time':times,'Z': z,'YG': yg, 'XC': xc},\n",
    "             dims=['time','Z','YG','XC'])\n",
    "\n",
    "hfacC = xr.DataArray(hFacC, coords={'Z': z,'YC': yc, 'XC': xc},\n",
    "             dims=['Z','YC','XC'])\n",
    "hfacW = xr.DataArray(hFacW, coords={'Z': z,'YC': yc, 'XG': xg},\n",
    "             dims=['Z','YC','XG'])\n",
    "hfacS = xr.DataArray(hFacS, coords={'Z': z,'YG': yg, 'XC': xc},\n",
    "             dims=['Z','YG','XC'])\n",
    "\n",
    "\n",
    "salt_noland = xr.DataArray(Salt_wet, coords={'time':times,'Z': z,'YC': yc, 'XC': xc},\n",
    "             dims=['time','Z','YC','XC'])\n",
    "theta_noland = xr.DataArray(Theta_wet, coords={'time':times,'Z': z,'YC': yc, 'XC': xc},\n",
    "             dims=['time','Z','YC','XC'])\n",
    "u_noland = xr.DataArray(U_wet, coords={'time':times,'Z': z,'YC': yc, 'XG': xg},\n",
    "             dims=['time','Z','YC','XG'])\n",
    "v_noland = xr.DataArray(V_wet, coords={'time':times,'Z': z,'YG': yg, 'XC': xc},\n",
    "             dims=['time','Z','YG','XC'])\n",
    "\n",
    "dep = xr.DataArray(depth*-1, coords={'YC': yc, 'XC': xc}, dims=['YC','XC'])\n",
    "#dep_u = xr.DataArray(depth_u*-1, coords={'YC': yc, 'XG': xg}, dims=['YC','XG'])\n",
    "#dep_v = xr.DataArray(depth_v*-1, coords={'YG': yg, 'XC': xc}, dims=['YG','XC'])\n",
    "\n",
    "dxC = xr.DataArray(dxc, coords={'YC': yc, 'XG': xg}, dims=['YC','XG'])\n",
    "dyG = xr.DataArray(dyg, coords={'YC': yc, 'XG': xg}, dims=['YC','XG'])\n",
    "dxG = xr.DataArray(dxg, coords={'YG': yg, 'XC': xc}, dims=['YG','XC'])\n",
    "dyC = xr.DataArray(dyc, coords={'YG': yg, 'XC': xc}, dims=['YG','XC'])\n",
    "\n",
    "ds_c = xr.Dataset({'salt': salt,\n",
    "                   'theta': theta,\n",
    "                   'U': u,\n",
    "                   'V': v,\n",
    "                   'salt_l': salt_noland,\n",
    "                   'theta_l': theta_noland,\n",
    "                   'U_l': u_noland,\n",
    "                   'V_l': v_noland,\n",
    "                   'depth': dep,  \n",
    "                   })\n",
    "ds_c.coords['hFacC'] = hfacC\n",
    "ds_c.coords['hFacW'] = hfacW\n",
    "ds_c.coords['hFacS'] = hfacS\n",
    "ds_c.coords['dxC'] = dxC\n",
    "ds_c.coords['dxG'] = dxG\n",
    "ds_c.coords['dyC'] = dyC\n",
    "ds_c.coords['dyG'] = dyG\n",
    "ds_c.coords['dZ'] = xr.DataArray(ds_aste.drF.values, coords={'Z':ds_c.Z.values}, dims = ['Z'])\n",
    "\n",
    "ds_c"
   ]
  },
  {
   "cell_type": "code",
   "execution_count": 25,
   "metadata": {},
   "outputs": [
    {
     "data": {
      "text/plain": [
       "<xarray.Dataset>\n",
       "Dimensions:  (XC: 910, XG: 910, YC: 266, YG: 266, Z: 100, time: 12)\n",
       "Coordinates:\n",
       "  * time     (time) datetime64[ns] 2008-01-01 2008-01-30 ... 2008-12-01\n",
       "  * Z        (Z) >f4 -2.5 -7.5 -12.5 -17.5 ... -5568.185 -5790.69 -6018.94\n",
       "  * YC       (YC) >f4 26.889458 26.95777 27.02604 ... 43.38593 43.44224\n",
       "  * XC       (XC) >f4 -81.54167 -81.458336 -81.375 ... -5.8750024 -5.7916694\n",
       "  * XG       (XG) >f4 -81.583336 -81.5 -81.41667 ... -5.9166694 -5.833336\n",
       "  * YG       (YG) >f4 26.855293 26.923624 26.991915 ... 43.35776 43.414097\n",
       "    hFacC    (Z, YC, XC) >f4 0.0 0.0 0.0 0.0 0.0 0.0 ... 0.0 0.0 0.0 0.0 0.0 0.0\n",
       "    hFacW    (Z, YC, XG) >f4 0.0 0.0 0.0 0.0 0.0 0.0 ... 0.0 0.0 0.0 0.0 0.0 0.0\n",
       "    hFacS    (Z, YG, XC) >f4 0.0 0.0 0.0 0.0 0.0 0.0 ... 0.0 0.0 0.0 0.0 0.0 0.0\n",
       "Data variables:\n",
       "    Salt_l   (time, Z, YC, XC) float64 36.58 36.58 36.58 ... 34.87 34.87 34.87\n",
       "    Theta_l  (time, Z, YC, XC) float64 22.25 22.25 22.25 ... 1.652 1.652 1.652\n",
       "    U_l      (time, Z, YC, XG) float64 -0.05453 -0.05453 ... 0.001594 0.001594\n",
       "    V_l      (time, Z, YG, XC) float64 0.4334 0.4334 ... -0.0006324 -0.0006324"
      ]
     },
     "execution_count": 25,
     "metadata": {},
     "output_type": "execute_result"
    }
   ],
   "source": [
    "hfacs = ['hFacC','hFacW','hFacS']\n",
    "xs = ['XC','XG','XC']\n",
    "ys = ['YC','YC','YG']\n",
    "for i, h in enumerate(hfacs):\n",
    "    ds_f.coords[h] = xr.DataArray(ds0[h].values, \n",
    "                           coords={'Z':z_fine,\n",
    "                                   ys[i] : ds_f[ys[i]].values, \n",
    "                                   xs[i] : ds_f[xs[i]].values,}, \n",
    "                           dims = ['Z', ys[i], xs[i]])\n",
    "ds_f"
   ]
  },
  {
   "cell_type": "code",
   "execution_count": 26,
   "metadata": {},
   "outputs": [
    {
     "data": {
      "text/plain": [
       "<xarray.Dataset>\n",
       "Dimensions:  (XC: 910, XG: 910, YC: 266, YG: 266, Z: 100, time: 12)\n",
       "Coordinates:\n",
       "  * time     (time) datetime64[ns] 2008-01-01 2008-01-30 ... 2008-12-01\n",
       "  * Z        (Z) >f4 -2.5 -7.5 -12.5 -17.5 ... -5568.185 -5790.69 -6018.94\n",
       "  * YC       (YC) >f4 26.889458 26.95777 27.02604 ... 43.38593 43.44224\n",
       "  * XC       (XC) >f4 -81.54167 -81.458336 -81.375 ... -5.8750024 -5.7916694\n",
       "  * XG       (XG) >f4 -81.583336 -81.5 -81.41667 ... -5.9166694 -5.833336\n",
       "  * YG       (YG) >f4 26.855293 26.923624 26.991915 ... 43.35776 43.414097\n",
       "    hFacC    (Z, YC, XC) >f4 0.0 0.0 0.0 0.0 0.0 0.0 ... 0.0 0.0 0.0 0.0 0.0 0.0\n",
       "    hFacW    (Z, YC, XG) >f4 0.0 0.0 0.0 0.0 0.0 0.0 ... 0.0 0.0 0.0 0.0 0.0 0.0\n",
       "    hFacS    (Z, YG, XC) >f4 0.0 0.0 0.0 0.0 0.0 0.0 ... 0.0 0.0 0.0 0.0 0.0 0.0\n",
       "    dxC      (YC, XG) >f4 8263.087 8263.087 8263.087 ... 6726.866 6726.866\n",
       "    dyG      (YC, XG) >f4 7596.842 7596.842 7596.842 ... 6258.1436 6258.1436\n",
       "    dxG      (YG, XC) >f4 8265.585 8265.585 8265.585 ... 6729.995 6729.995\n",
       "    dyC      (YG, XC) >f4 6927.4927 6927.4927 6927.4927 ... 6260.6885 6260.6885\n",
       "    dZ       (Z) >f4 5.0 5.0 5.0 5.0 5.0 ... 208.12 213.87 219.63 225.38 231.12\n",
       "Data variables:\n",
       "    Salt_l   (time, Z, YC, XC) float64 36.58 36.58 36.58 ... 34.87 34.87 34.87\n",
       "    Theta_l  (time, Z, YC, XC) float64 22.25 22.25 22.25 ... 1.652 1.652 1.652\n",
       "    U_l      (time, Z, YC, XG) float64 -0.05453 -0.05453 ... 0.001594 0.001594\n",
       "    V_l      (time, Z, YG, XC) float64 0.4334 0.4334 ... -0.0006324 -0.0006324"
      ]
     },
     "execution_count": 26,
     "metadata": {},
     "output_type": "execute_result"
    }
   ],
   "source": [
    "ds_f.coords['dxC'] = xr.DataArray(ds0.dxC.values, \n",
    "                           coords={'YC': yc_fine, 'XG' : xg_fine},\n",
    "                           dims = ['YC','XG'])\n",
    "ds_f.coords['dyG'] = xr.DataArray(ds0.dyG.values, \n",
    "                           coords={'YC': yc_fine, 'XG' : xg_fine},\n",
    "                           dims = ['YC','XG'])\n",
    "ds_f.coords['dxG'] = xr.DataArray(ds0.dxG.values, \n",
    "                           coords={'YG': yg_fine, 'XC' : xc_fine},\n",
    "                           dims = ['YG','XC'])\n",
    "ds_f.coords['dyC'] = xr.DataArray(ds0.dyC.values, \n",
    "                           coords={'YG': yg_fine, 'XC' : xc_fine},\n",
    "                           dims = ['YG','XC'])\n",
    "ds_f.coords['dZ'] = xr.DataArray(ds0.drF.values, coords={'Z':ds_f.Z.values}, dims = ['Z'])\n",
    "ds_f"
   ]
  },
  {
   "cell_type": "code",
   "execution_count": 27,
   "metadata": {},
   "outputs": [
    {
     "name": "stdout",
     "output_type": "stream",
     "text": [
      "CPU times: user 3.15 s, sys: 8.32 s, total: 11.5 s\n",
      "Wall time: 18.8 s\n"
     ]
    }
   ],
   "source": [
    "%%time\n",
    "variables = ['Salt','Theta','U','V',]\n",
    "hFacs = ['hFacC','hFacC','hFacW','hFacS',]\n",
    "for i,v in enumerate(variables):\n",
    "    ds_f[v] = ds_f[v+'_l'].where(ds_f[hFacs[i]])"
   ]
  },
  {
   "cell_type": "code",
   "execution_count": 28,
   "metadata": {},
   "outputs": [
    {
     "data": {
      "text/plain": [
       "<xarray.Dataset>\n",
       "Dimensions:  (XC: 910, XG: 910, YC: 266, YG: 266, Z: 100, time: 12)\n",
       "Coordinates:\n",
       "  * time     (time) datetime64[ns] 2008-01-01 2008-01-30 ... 2008-12-01\n",
       "  * Z        (Z) >f4 -2.5 -7.5 -12.5 -17.5 ... -5568.185 -5790.69 -6018.94\n",
       "  * YC       (YC) >f4 26.889458 26.95777 27.02604 ... 43.38593 43.44224\n",
       "  * XC       (XC) >f4 -81.54167 -81.458336 -81.375 ... -5.8750024 -5.7916694\n",
       "  * XG       (XG) >f4 -81.583336 -81.5 -81.41667 ... -5.9166694 -5.833336\n",
       "  * YG       (YG) >f4 26.855293 26.923624 26.991915 ... 43.35776 43.414097\n",
       "    hFacC    (Z, YC, XC) >f4 0.0 0.0 0.0 0.0 0.0 0.0 ... 0.0 0.0 0.0 0.0 0.0 0.0\n",
       "    hFacW    (Z, YC, XG) >f4 0.0 0.0 0.0 0.0 0.0 0.0 ... 0.0 0.0 0.0 0.0 0.0 0.0\n",
       "    hFacS    (Z, YG, XC) >f4 0.0 0.0 0.0 0.0 0.0 0.0 ... 0.0 0.0 0.0 0.0 0.0 0.0\n",
       "    dxC      (YC, XG) >f4 8263.087 8263.087 8263.087 ... 6726.866 6726.866\n",
       "    dyG      (YC, XG) >f4 7596.842 7596.842 7596.842 ... 6258.1436 6258.1436\n",
       "    dxG      (YG, XC) >f4 8265.585 8265.585 8265.585 ... 6729.995 6729.995\n",
       "    dyC      (YG, XC) >f4 6927.4927 6927.4927 6927.4927 ... 6260.6885 6260.6885\n",
       "    dZ       (Z) >f4 5.0 5.0 5.0 5.0 5.0 ... 208.12 213.87 219.63 225.38 231.12\n",
       "Data variables:\n",
       "    Salt_l   (time, Z, YC, XC) float64 36.58 36.58 36.58 ... 34.87 34.87 34.87\n",
       "    Theta_l  (time, Z, YC, XC) float64 22.25 22.25 22.25 ... 1.652 1.652 1.652\n",
       "    U_l      (time, Z, YC, XG) float64 -0.05453 -0.05453 ... 0.001594 0.001594\n",
       "    V_l      (time, Z, YG, XC) float64 0.4334 0.4334 ... -0.0006324 -0.0006324\n",
       "    Salt     (time, Z, YC, XC) float64 nan nan nan nan nan ... nan nan nan nan\n",
       "    Theta    (time, Z, YC, XC) float64 nan nan nan nan nan ... nan nan nan nan\n",
       "    U        (time, Z, YC, XG) float64 nan nan nan nan nan ... nan nan nan nan\n",
       "    V        (time, Z, YG, XC) float64 nan nan nan nan nan ... nan nan nan nan"
      ]
     },
     "execution_count": 28,
     "metadata": {},
     "output_type": "execute_result"
    }
   ],
   "source": [
    "ds_f"
   ]
  },
  {
   "cell_type": "code",
   "execution_count": 35,
   "metadata": {},
   "outputs": [],
   "source": [
    "V_fs = ds_f.V.isel(YG=2).sel(XC=slice(-80.5,-78))\n",
    "V_gs = ds_f.V.isel(YG=2).sel(XC=slice(-80.5,-76))\n",
    "V_eb = ds_f.V.isel(YG=2).sel(XC=slice(-78,-76))"
   ]
  },
  {
   "cell_type": "code",
   "execution_count": 36,
   "metadata": {},
   "outputs": [],
   "source": [
    "V_gs_di = (V_gs*V_gs.dxG*V_gs.dZ).sum(dim='Z')\n",
    "V_gs_i = V_gs_di.sum(dim='XC')*1e-6\n",
    "V_fs_di = (V_fs*V_fs.dxG*V_fs.dZ).sum(dim='Z')\n",
    "V_fs_i = V_fs_di.sum(dim='XC')*1e-6\n",
    "V_eb_di = (V_eb*V_eb.dxG*V_eb.dZ).sum(dim='Z')\n",
    "V_eb_i = V_eb_di.sum(dim='XC')*1e-6\n"
   ]
  },
  {
   "cell_type": "code",
   "execution_count": 37,
   "metadata": {},
   "outputs": [],
   "source": [
    "Vc_fs = ds_c.V.sel(YG=ds_f.isel(YG=2).YG.values,method='nearest').sel(XC=slice(-80.5,-78))\n",
    "Vc_gs = ds_c.V.sel(YG=ds_f.isel(YG=2).YG.values,method='nearest').sel(XC=slice(-80.5,-76))\n",
    "Vc_eb = ds_c.V.sel(YG=ds_f.isel(YG=2).YG.values,method='nearest').sel(XC=slice(-78,-76))"
   ]
  },
  {
   "cell_type": "code",
   "execution_count": 38,
   "metadata": {},
   "outputs": [],
   "source": [
    "Vc_gs_di = (Vc_gs*Vc_gs.dxG*Vc_gs.dZ).sum(dim='Z')\n",
    "Vc_gs_i = Vc_gs_di.sum(dim='XC')*1e-6\n",
    "Vc_fs_di = (Vc_fs*Vc_fs.dxG*Vc_fs.dZ).sum(dim='Z')\n",
    "Vc_fs_i = Vc_fs_di.sum(dim='XC')*1e-6\n",
    "Vc_eb_di = (Vc_eb*Vc_eb.dxG*Vc_eb.dZ).sum(dim='Z')\n",
    "Vc_eb_i = Vc_eb_di.sum(dim='XC')*1e-6"
   ]
  },
  {
   "cell_type": "code",
   "execution_count": 39,
   "metadata": {},
   "outputs": [],
   "source": [
    "figdir = 'Figs_BCs_ASTE/'"
   ]
  },
  {
   "cell_type": "code",
   "execution_count": 29,
   "metadata": {},
   "outputs": [
    {
     "data": {
      "text/plain": [
       "array([ 1,  2,  3,  4,  5,  6,  7,  8,  9, 10, 11, 12])"
      ]
     },
     "execution_count": 29,
     "metadata": {},
     "output_type": "execute_result"
    }
   ],
   "source": [
    "time_m = np.arange(1,13,1)\n",
    "time_m"
   ]
  },
  {
   "cell_type": "code",
   "execution_count": 41,
   "metadata": {},
   "outputs": [
    {
     "data": {
      "image/png": "[encoded data removed]",
      "text/plain": [
       "<Figure size 1440x720 with 5 Axes>"
      ]
     },
     "metadata": {},
     "output_type": "display_data"
    },
    {
     "data": {
      "image/png": "[encoded data removed]",
      "text/plain": [
       "<Figure size 1440x720 with 5 Axes>"
      ]
     },
     "metadata": {
      "needs_background": "light"
     },
     "output_type": "display_data"
    }
   ],
   "source": [
    "plt.figure(figsize=(20,10))\n",
    "for i in range(len(time_m)):\n",
    "    \n",
    "    plt.subplot2grid((8,5),(0,0), colspan=3, rowspan=3)\n",
    "    V_gs.isel(time=i).plot(vmin=-1,vmax=1, cmap=cmocean.cm.balance, add_colorbar=False)\n",
    "    plt.ylim([-1800,1]);\n",
    "\n",
    "    plt.subplot2grid((8,5),(0,3), colspan=2, rowspan=3)\n",
    "    V_fs.isel(time=i).plot(vmin=-1,vmax=1, cmap=cmocean.cm.balance, add_colorbar=False)\n",
    "    plt.ylim([-1800,1]);\n",
    "    plt.yticks([])\n",
    "\n",
    "    plt.subplot2grid((8,5),(3,0), colspan=3, rowspan=2)\n",
    "    (V_gs_di*1e-6).isel(time=i).plot(color=color1)\n",
    "    plt.ylabel(r'$dx \\int v dZ$, [Sv]')\n",
    "    plt.xlim([V_gs.XC.min(),V_gs.XC.max()])\n",
    "    plt.ylim([-1.6,3.0])\n",
    "\n",
    "    plt.subplot2grid((8,5),(3,3), colspan=2, rowspan=2)\n",
    "    (V_fs_di*1e-6).isel(time=i).plot(color=color2)\n",
    "    plt.xlim([V_fs.XC.min(),V_fs.XC.max()])\n",
    "    plt.ylim([-0.1,3.0])\n",
    "\n",
    "\n",
    "    plt.subplot2grid((8,5),(5,0), colspan=5, rowspan=3)\n",
    "    plt.plot(time_m[:i+1], V_fs_i.values[:i+1], marker='o', color=color2, label='Florida Strait')\n",
    "    plt.plot(time_m[:i+1], V_gs_i.values[:i+1], marker='o', color=color1, label='Gulf Stream')\n",
    "\n",
    "    plt.xlim([time_m.min(),time_m.max()])\n",
    "    plt.xticks(time_m)\n",
    "    plt.grid()\n",
    "    plt.xlabel('Months')\n",
    "    plt.title('Transport [Sv]')\n",
    "    plt.legend()\n",
    "    plt.ylim([0,31])\n",
    "    plt.tight_layout()\n",
    "    plt.savefig(figdir+'V_S_910_%06d'%i)\n",
    "\n",
    "    display.clear_output(wait=True)\n",
    "    display.display(plt.gcf())\n",
    "    time.sleep(0.1)"
   ]
  },
  {
   "cell_type": "code",
   "execution_count": 42,
   "metadata": {},
   "outputs": [],
   "source": [
    "def output_binary_file(data, fname, dtype=np.dtype('>f4')):\n",
    "    data.astype(dtype).tofile(fname)"
   ]
  },
  {
   "cell_type": "code",
   "execution_count": 31,
   "metadata": {},
   "outputs": [],
   "source": [
    "ds_ac = ds_f"
   ]
  },
  {
   "cell_type": "code",
   "execution_count": 46,
   "metadata": {},
   "outputs": [
    {
     "data": {
      "text/plain": [
       "<xarray.DataArray 'XG' ()>\n",
       "array(-6.083336, dtype=float32)\n",
       "Coordinates:\n",
       "    XG       >f4 -6.083336"
      ]
     },
     "execution_count": 46,
     "metadata": {},
     "output_type": "execute_result"
    }
   ],
   "source": [
    "ds_ac.isel(XG=-4).XG"
   ]
  },
  {
   "cell_type": "code",
   "execution_count": 32,
   "metadata": {},
   "outputs": [],
   "source": [
    "var = {}\n",
    "var['OBSs'] = ds_ac.isel(YC=1).Salt.values\n",
    "var['OBNs'] = ds_ac.isel(YC=-2).Salt.values\n",
    "var['OBSt'] = ds_ac.isel(YC=1).Theta.values\n",
    "var['OBNt'] = ds_ac.isel(YC=-2).Theta.values\n",
    "var['OBSu'] = ds_ac.isel(YC=1).U.values\n",
    "var['OBNu'] = ds_ac.isel(YC=-2).U.values\n",
    "var['OBSv'] = ds_ac.isel(YG=2).V.values\n",
    "var['OBNv'] = ds_ac.isel(YG=-2).V.values\n",
    "var['OBEs'] = ds_ac.isel(XC=-4).Salt.values\n",
    "var['OBEt'] = ds_ac.isel(XC=-4).Theta.values\n",
    "var['OBEu'] = ds_ac.isel(XG=-4).U.values\n",
    "var['OBEv'] = ds_ac.isel(XC=-4).V.values"
   ]
  },
  {
   "cell_type": "code",
   "execution_count": 33,
   "metadata": {},
   "outputs": [
    {
     "data": {
      "text/plain": [
       "<matplotlib.colorbar.Colorbar at 0x2aab170611d0>"
      ]
     },
     "execution_count": 33,
     "metadata": {},
     "output_type": "execute_result"
    },
    {
     "data": {
      "image/png": "[encoded data removed]",
      "text/plain": [
       "<Figure size 1008x432 with 2 Axes>"
      ]
     },
     "metadata": {
      "needs_background": "light"
     },
     "output_type": "display_data"
    }
   ],
   "source": [
    "plt.pcolormesh(var['OBNs'][0]);plt.colorbar()"
   ]
  },
  {
   "cell_type": "code",
   "execution_count": 48,
   "metadata": {},
   "outputs": [],
   "source": [
    "bcdir = '/central/groups/oceanphysics/anirban/hydro_BC_from_ASTE_910/'"
   ]
  },
  {
   "cell_type": "code",
   "execution_count": 34,
   "metadata": {},
   "outputs": [],
   "source": [
    "for v in var.keys():\n",
    "    var[v][np.isnan(var[v])] = 0"
   ]
  },
  {
   "cell_type": "code",
   "execution_count": 35,
   "metadata": {},
   "outputs": [
    {
     "data": {
      "text/plain": [
       "<matplotlib.colorbar.Colorbar at 0x2aab16035668>"
      ]
     },
     "execution_count": 35,
     "metadata": {},
     "output_type": "execute_result"
    },
    {
     "data": {
      "image/png": "[encoded data removed]",
      "text/plain": [
       "<Figure size 1008x432 with 2 Axes>"
      ]
     },
     "metadata": {
      "needs_background": "light"
     },
     "output_type": "display_data"
    }
   ],
   "source": [
    "plt.pcolormesh(var['OBNs'][0]);plt.colorbar()"
   ]
  },
  {
   "cell_type": "code",
   "execution_count": 50,
   "metadata": {},
   "outputs": [],
   "source": [
    "for v in var.keys():\n",
    "    output_binary_file(var[v], os.path.join(bcdir, v+'_%sx%sx%s.bin' %(var[v].shape[-1],var[v].shape[-2],var[v].shape[0])))"
   ]
  },
  {
   "cell_type": "code",
   "execution_count": 51,
   "metadata": {},
   "outputs": [],
   "source": [
    "varin = {}\n",
    "varin['S0'] = ds_ac.Salt.isel(time=0).values\n",
    "varin['T0'] = ds_ac.Theta.isel(time=0).values\n",
    "varin['U0'] = ds_ac.U.isel(time=0).values\n",
    "varin['V0'] = ds_ac.V.isel(time=0).values\n",
    "for v in varin.keys():\n",
    "    varin[v][np.isnan(varin[v])] = 0"
   ]
  },
  {
   "cell_type": "code",
   "execution_count": 52,
   "metadata": {},
   "outputs": [],
   "source": [
    "for v in varin.keys():\n",
    "    output_binary_file(varin[v], os.path.join(bcdir, v+'_%sx%sx%s.bin' %(varin[v].shape[-1],varin[v].shape[-2],varin[v].shape[0])))"
   ]
  },
  {
   "cell_type": "code",
   "execution_count": 53,
   "metadata": {},
   "outputs": [
    {
     "name": "stdout",
     "output_type": "stream",
     "text": [
      "0\n",
      "1\n",
      "2\n",
      "3\n",
      "4\n",
      "5\n",
      "6\n",
      "7\n",
      "8\n",
      "9\n",
      "10\n",
      "11\n"
     ]
    }
   ],
   "source": [
    "outdir = '/central/groups/oceanphysics/anirban/interpolated_STUV_netcdf/'\n",
    "for i in range(len(ds_f.time)):\n",
    "    ds_small = ds_f.isel(time=i)\n",
    "    ds_small.to_netcdf(outdir+'aste_STUV_interp_910x266x100.%010d.nc' %(times[i]))\n",
    "    print(i)"
   ]
  },
  {
   "cell_type": "code",
   "execution_count": 54,
   "metadata": {},
   "outputs": [
    {
     "data": {
      "text/plain": [
       "0.083333333333334"
      ]
     },
     "execution_count": 54,
     "metadata": {},
     "output_type": "execute_result"
    }
   ],
   "source": [
    "0.041666666666667 *2"
   ]
  },
  {
   "cell_type": "code",
   "execution_count": null,
   "metadata": {},
   "outputs": [],
   "source": []
  }
 ],
 "metadata": {
  "kernelspec": {
   "display_name": "myownenv1",
   "language": "python",
   "name": "myownenv1"
  },
  "language_info": {
   "codemirror_mode": {
    "name": "ipython",
    "version": 3
   },
   "file_extension": ".py",
   "mimetype": "text/x-python",
   "name": "python",
   "nbconvert_exporter": "python",
   "pygments_lexer": "ipython3",
   "version": "3.6.7"
  }
 },
 "nbformat": 4,
 "nbformat_minor": 2
}
